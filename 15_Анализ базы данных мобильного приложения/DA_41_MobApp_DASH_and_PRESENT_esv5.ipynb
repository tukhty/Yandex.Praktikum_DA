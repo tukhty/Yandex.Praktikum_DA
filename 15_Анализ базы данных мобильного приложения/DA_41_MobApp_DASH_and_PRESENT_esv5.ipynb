{
 "cells": [
  {
   "cell_type": "markdown",
   "metadata": {},
   "source": [
    "<div class=\"alert alert-info\"; style=\"border-left: 7px solid SteelBlue\">\n",
    "<h5>🎓 <font color=\"SteelBlue\">Комментарий от студента (v0)</font></h5> \n",
    "  Вариант файла ipynb выбрал достаточно произвольно - один из тех, в которых я делал заготовки для загрузки в Tableau.\n",
    "  \n",
    "  Некоторый сумбур, несовпадающий с перфекционистскими устремлениями наблюдается, конечно, за что и извиняюсь.\n",
    "    \n",
    "  Трудно привыкнуть, когда майкрософт-офисная девелоперская учётка, служившая верой и правдой три года, вдруг \"отваливается\", а google_docs даёт работать со слайдами, но не сохраняет изменений...\n",
    "    \n",
    "  Но мы не сдаёмся, и назло обстоятельствам таки стремимся к свету! ))"
   ]
  },
  {
   "cell_type": "markdown",
   "metadata": {},
   "source": [
    "Ссылка на ДашБоард https://public.tableau.com/views/da41_MobApp_esv1/DashBoard?:language=en-US&publish=yes&:display_count=n&:origin=viz_share_link"
   ]
  },
  {
   "cell_type": "markdown",
   "metadata": {},
   "source": [
    "Ссылка на Презентацию https://disk.yandex.ru/i/LVhcDXyHmFpfhQ\n"
   ]
  },
  {
   "cell_type": "markdown",
   "metadata": {},
   "source": [
    "<div style=\"border-radius: 15px; box-shadow: 2px 2px 4px; border: 1px solid; background:#bdc3c7; padding: 20px\"> <h7 style=\"color:black; margin-bottom:20px\"> Сергей, привет!) Это Михаил.\n",
    "\n",
    "Мои комментарии и замечания далее по тексту помечены различными цветами:\n",
    "    \n",
    "---    \n",
    "<div class=\"alert alert-block alert-danger\">\n",
    "❌ : Критическое замечание, которые следует исправить.\n",
    "</div> \n",
    "    \n",
    "---\n",
    "    \n",
    "<div class=\"alert alert-block alert-warning\">\n",
    "⚠️ : Замечание\\совет на будущее.\n",
    "</div>\n",
    "    \n",
    "---\n",
    "    \n",
    "<div class=\"alert alert-block alert-success\">\n",
    "✔️ : Когда всё сделано правильно.\n",
    "</div>\n",
    "\n",
    "---\n",
    "\n",
    "Если возникнут вопросы по проекту или вопросы общего характера, то не стесняйся - задавай!) Для того, чтобы мне было легче их найти, то выделяй их пожалуйста с помощью цвета, например вот так - <font color=#e17055>\"вопрос, который не останется незамеченным\"</font>\n",
    "        \n",
    "    \n",
    "p.s.: не удаляй мои замечания, если предстоит что то доработать в проекте.</h7>"
   ]
  },
  {
   "cell_type": "markdown",
   "metadata": {
    "toc": true
   },
   "source": [
    "<h1>Table of Contents<span class=\"tocSkip\"></span></h1>\n",
    "<div class=\"toc\"><ul class=\"toc-item\"><li><span><a href=\"#Оглавление:\" data-toc-modified-id=\"Оглавление:-1\"><span class=\"toc-item-num\">1&nbsp;&nbsp;</span>Оглавление:</a></span></li><li><span><a href=\"#Резюме-проекта.\" data-toc-modified-id=\"Резюме-проекта.-2\"><span class=\"toc-item-num\">2&nbsp;&nbsp;</span>Резюме проекта.</a></span></li><li><span><a href=\"#Техническое-задание.\" data-toc-modified-id=\"Техническое-задание.-3\"><span class=\"toc-item-num\">3&nbsp;&nbsp;</span>Техническое задание.</a></span></li><li><span><a href=\"#Подготовительный-этап\" data-toc-modified-id=\"Подготовительный-этап-4\"><span class=\"toc-item-num\">4&nbsp;&nbsp;</span>Подготовительный этап</a></span><ul class=\"toc-item\"><li><span><a href=\"#Импорт-стандартных-библиотек\" data-toc-modified-id=\"Импорт-стандартных-библиотек-4.1\"><span class=\"toc-item-num\">4.1&nbsp;&nbsp;</span>Импорт стандартных библиотек</a></span></li><li><span><a href=\"#Библиотека-собственных-функций\" data-toc-modified-id=\"Библиотека-собственных-функций-4.2\"><span class=\"toc-item-num\">4.2&nbsp;&nbsp;</span>Библиотека собственных функций</a></span></li></ul></li><li><span><a href=\"#Загрузка-и-просмотр-данных\" data-toc-modified-id=\"Загрузка-и-просмотр-данных-5\"><span class=\"toc-item-num\">5&nbsp;&nbsp;</span>Загрузка и просмотр данных</a></span><ul class=\"toc-item\"><li><span><a href=\"#Действия\" data-toc-modified-id=\"Действия-5.1\"><span class=\"toc-item-num\">5.1&nbsp;&nbsp;</span>Действия</a></span></li><li><span><a href=\"#Вывод-по-загрузке\" data-toc-modified-id=\"Вывод-по-загрузке-5.2\"><span class=\"toc-item-num\">5.2&nbsp;&nbsp;</span>Вывод по загрузке</a></span></li></ul></li><li><span><a href=\"#Предобработка-данных\" data-toc-modified-id=\"Предобработка-данных-6\"><span class=\"toc-item-num\">6&nbsp;&nbsp;</span>Предобработка данных</a></span><ul class=\"toc-item\"><li><span><a href=\"#Действия\" data-toc-modified-id=\"Действия-6.1\"><span class=\"toc-item-num\">6.1&nbsp;&nbsp;</span>Действия</a></span></li><li><span><a href=\"#Вывод-по-предобработке\" data-toc-modified-id=\"Вывод-по-предобработке-6.2\"><span class=\"toc-item-num\">6.2&nbsp;&nbsp;</span>Вывод по предобработке</a></span></li></ul></li><li><span><a href=\"#Исследовательский-анализ-данных-EDA\" data-toc-modified-id=\"Исследовательский-анализ-данных-EDA-7\"><span class=\"toc-item-num\">7&nbsp;&nbsp;</span>Исследовательский анализ данных EDA</a></span><ul class=\"toc-item\"><li><span><a href=\"#Действия\" data-toc-modified-id=\"Действия-7.1\"><span class=\"toc-item-num\">7.1&nbsp;&nbsp;</span>Действия</a></span></li><li><span><a href=\"#Вывод-по-EDA\" data-toc-modified-id=\"Вывод-по-EDA-7.2\"><span class=\"toc-item-num\">7.2&nbsp;&nbsp;</span>Вывод по EDA</a></span></li></ul></li><li><span><a href=\"#Сегментирование-пользователей\" data-toc-modified-id=\"Сегментирование-пользователей-8\"><span class=\"toc-item-num\">8&nbsp;&nbsp;</span>Сегментирование пользователей</a></span><ul class=\"toc-item\"><li><span><a href=\"#Действия\" data-toc-modified-id=\"Действия-8.1\"><span class=\"toc-item-num\">8.1&nbsp;&nbsp;</span>Действия</a></span></li><li><span><a href=\"#Вывод-по-сегментации\" data-toc-modified-id=\"Вывод-по-сегментации-8.2\"><span class=\"toc-item-num\">8.2&nbsp;&nbsp;</span>Вывод по сегментации</a></span></li></ul></li><li><span><a href=\"#Проверка-статистических-гипотез:\" data-toc-modified-id=\"Проверка-статистических-гипотез:-9\"><span class=\"toc-item-num\">9&nbsp;&nbsp;</span>Проверка статистических гипотез:</a></span><ul class=\"toc-item\"><li><span><a href=\"#Гипотеза-1:-Группы-пользователей,-установивших-приложение-по-ссылке-из-yandex-и--google,-демонстрируют-разную-конверсию-в-просмотры-контактов.\" data-toc-modified-id=\"Гипотеза-1:-Группы-пользователей,-установивших-приложение-по-ссылке-из-yandex-и--google,-демонстрируют-разную-конверсию-в-просмотры-контактов.-9.1\"><span class=\"toc-item-num\">9.1&nbsp;&nbsp;</span>Гипотеза 1: Группы пользователей, установивших приложение по ссылке из yandex и  google, демонстрируют разную конверсию в просмотры контактов.</a></span></li><li><span><a href=\"#Гипотеза-2:-Группы-пользователей,-которые-сомотрят-и-не-смотрят-фото,-демонстрируют-одинаковую-конверсию-в-просмотры-контактов.\" data-toc-modified-id=\"Гипотеза-2:-Группы-пользователей,-которые-сомотрят-и-не-смотрят-фото,-демонстрируют-одинаковую-конверсию-в-просмотры-контактов.-9.2\"><span class=\"toc-item-num\">9.2&nbsp;&nbsp;</span>Гипотеза 2: Группы пользователей, которые сомотрят и не смотрят фото, демонстрируют одинаковую конверсию в просмотры контактов.</a></span></li></ul></li><li><span><a href=\"#Презентация\" data-toc-modified-id=\"Презентация-10\"><span class=\"toc-item-num\">10&nbsp;&nbsp;</span>Презентация</a></span><ul class=\"toc-item\"><li><span><a href=\"#Ссылка\" data-toc-modified-id=\"Ссылка-10.1\"><span class=\"toc-item-num\">10.1&nbsp;&nbsp;</span>Ссылка</a></span></li></ul></li><li><span><a href=\"#Общие-выводы\" data-toc-modified-id=\"Общие-выводы-11\"><span class=\"toc-item-num\">11&nbsp;&nbsp;</span>Общие выводы</a></span><ul class=\"toc-item\"><li><span><a href=\"#Текстовка\" data-toc-modified-id=\"Текстовка-11.1\"><span class=\"toc-item-num\">11.1&nbsp;&nbsp;</span>Текстовка</a></span></li></ul></li><li><span><a href=\"#Рекомендации\" data-toc-modified-id=\"Рекомендации-12\"><span class=\"toc-item-num\">12&nbsp;&nbsp;</span>Рекомендации</a></span><ul class=\"toc-item\"><li><span><a href=\"#Текстовка\" data-toc-modified-id=\"Текстовка-12.1\"><span class=\"toc-item-num\">12.1&nbsp;&nbsp;</span>Текстовка</a></span></li></ul></li></ul></div>"
   ]
  },
  {
   "cell_type": "markdown",
   "metadata": {},
   "source": [
    "# Проект «Мобильные приложения — Выделение групп пользователей на основе поведения»"
   ]
  },
  {
   "cell_type": "markdown",
   "metadata": {},
   "source": [
    "## Оглавление:\n",
    "\n",
    "Здесь получу оглавление через заранее сохранённую пустую болванку из Тренажера, в которой оглавление формируется через TOC \n",
    "\n",
    "или использую конструкцию\n",
    "#- [Рекомендации Заказчику](#recomend)\n",
    "#[к содержанию](#content)"
   ]
  },
  {
   "cell_type": "markdown",
   "metadata": {},
   "source": [
    "## Резюме проекта."
   ]
  },
  {
   "cell_type": "markdown",
   "metadata": {},
   "source": [
    "  Дисклеймер. Настоящий проект является учебным и в большей степени призван демонстрировать навыки, чем быть образцом реального бизнес-кейса, ну или по крайней мере, является примером первой итерации взаимодействия подразделений."
   ]
  },
  {
   "cell_type": "markdown",
   "metadata": {},
   "source": [
    "  Основные принципы функционирования отдела аналитики компании \"НВ\":\n",
    "  - \"всегDA готов\" т.е. в первую очередь создаётся проект с мнимумом затрачиваемого времени, минимально-достаточно отвечающий на поставленные вопросы;\n",
    "  - проект снабжается закладками под будущие ответвления по улучшению функционала в зависимости от эффективности смежных подразделений;\n",
    "  - при наличии выбора предпочтение отдаётся использованию уже существующих данных, новые сущности внедряются или на второй итерации или когда предсказательная способность первичных уже исчерпана;\n",
    "  - стремление к красоте, наполненности и всестороннем рассмотрении поддерживается только при наличии явного стремления вовлечённых сторон."
   ]
  },
  {
   "cell_type": "markdown",
   "metadata": {},
   "source": [
    "Краткое изложение выводов."
   ]
  },
  {
   "cell_type": "markdown",
   "metadata": {},
   "source": [
    "## Техническое задание.\n",
    "\n",
    "Здесь размещу выдержки из Презентации \n",
    "\n",
    "ЗАДАЧИ ИССЛЕДОВАНИЯ\n",
    "ВЫДЕЛИТЕ (ОТМЕТЬТЕ) ГРУППЫ ПОЛЬЗОВАТЕЛЕЙ, КОТОРЫЕ РАЗЛИЧАЮТСЯ\n",
    "ПО МЕТРИКАМ:\n",
    "- RETENTION RATE\n",
    "- ВРЕМЯ В ПРИЛОЖЕНИИ\n",
    "- ЧАСТОТА СОВЕРШЕНИЯ СОБЫТИЙ\n",
    "- КОНВЕРСИЯ В ЦЕЛЕВОЕ ДЕЙСТВИЕ CONTACTS_SHOW\n",
    "\n",
    "ОСНОВНЫЕ ВОПРОСЫ\n",
    "ИССЛЕДОВАНИЯ\n",
    "- КАКИЕ ПОЛЬЗОВАТЕЛИ СКЛОННЫ ЧАСТО ВОЗВРАЩАТЬСЯ В МОБИЛЬНОЕ\n",
    "ПРИЛОЖЕНИЕ (RETENTION RATE)?\n",
    "- КАКИЕ ПОЛЬЗОВАТЕЛИ ЧАСТО ДЕЛАЮТ ЦЕЛЕВОЕ СОБЫТИЕ (КОНВЕРСИЯ В\n",
    "ЦЕЛЕВОЕ ДЕЙСТВИЕ)?\n",
    "- КАК РАЗЛИЧАЕТСЯ ВРЕМЯ МЕЖДУ РАСПРОСТРАНЕННЫМИ СОБЫТИЯМИ\n",
    "ПОЛЬЗОВАТЕЛЕЙ (НАПРИМЕР, РАЗЛИЧАЮТСЯ ЛИ ПОЛЬЗОВАТЕЛИ ПО\n",
    "ГРУППАМ НА ОСНОВЕ ВРЕМЕНИ, КОТОРОЕ ПРОХОДИТ С МОМЕНТА\n",
    "ПЕРВОГО ИСПОЛЬЗОВАНИЯ МОБИЛЬНОГО ПРИЛОЖЕНИЯ И ДО\n",
    "ИСПОЛЬЗОВАНИЯ ФУНКЦИИ ПОИСКА)?\n",
    "\n",
    "ЗАЧЕМ АНАЛИЗИРОВАТЬ\n",
    "ГРУППЫ ПОЛЬЗОВАТЕЛЕЙ\n",
    "- ВЫДЕЛИТЬ СЕГМЕНТЫ ПОЛЬЗОВАТЕЛЕЙ ДЛЯ УПРАВЛЕНИЯ\n",
    "ВОВЛЕЧЕННОСТЬЮ (АДАПТИРОВАТЬ ПРИЛОЖЕНИЕ ПОД\n",
    "ЦЕЛЕВУЮ И СМЕЖНЫЕ АУДИТОРИИ)\n",
    "- ВЫДВИНУТЬ ГИПОТЕЗЫ КАК МОЖНО ОПТИМИЗИРОВАТЬ ПУТИ\n",
    "ПОЛЬЗОВАТЕЛЕЙ, ВОЗМОЖНО ВЫДВИНУТЬ КАКИЕ-ТО ИДЕИ\n",
    "ДЛЯ ЭКСПЕРИМЕНТОВ"
   ]
  },
  {
   "cell_type": "markdown",
   "metadata": {},
   "source": [
    "## Подготовительный этап"
   ]
  },
  {
   "cell_type": "markdown",
   "metadata": {},
   "source": [
    "### Импорт стандартных библиотек "
   ]
  },
  {
   "cell_type": "markdown",
   "metadata": {},
   "source": [
    "### Библиотека собственных функций"
   ]
  },
  {
   "cell_type": "markdown",
   "metadata": {},
   "source": [
    "## Загрузка и просмотр данных"
   ]
  },
  {
   "cell_type": "code",
   "execution_count": 1,
   "metadata": {},
   "outputs": [],
   "source": [
    "import pandas as pd"
   ]
  },
  {
   "cell_type": "code",
   "execution_count": 2,
   "metadata": {},
   "outputs": [],
   "source": [
    "### Действия\n",
    "md = pd.read_csv('https://code.s3.yandex.net/datasets/mobile_dataset.csv')\n",
    "ms = pd.read_csv('https://code.s3.yandex.net/datasets/mobile_soures.csv')"
   ]
  },
  {
   "cell_type": "code",
   "execution_count": 16,
   "metadata": {
    "scrolled": true
   },
   "outputs": [
    {
     "data": {
      "text/plain": [
       "<bound method NDFrame.describe of 0       2019-10-07 00:00:00.431357\n",
       "1       2019-10-07 00:00:01.236320\n",
       "2       2019-10-07 00:00:02.245341\n",
       "3       2019-10-07 00:00:07.039334\n",
       "4       2019-10-07 00:00:56.319813\n",
       "                   ...            \n",
       "74192   2019-11-03 23:53:29.534986\n",
       "74193   2019-11-03 23:54:00.407086\n",
       "74194   2019-11-03 23:56:57.041825\n",
       "74195   2019-11-03 23:57:06.232189\n",
       "74196   2019-11-03 23:58:12.532487\n",
       "Name: event_time, Length: 74197, dtype: datetime64[ns]>"
      ]
     },
     "execution_count": 16,
     "metadata": {},
     "output_type": "execute_result"
    }
   ],
   "source": [
    "md['event_time'].describe"
   ]
  },
  {
   "cell_type": "code",
   "execution_count": 4,
   "metadata": {},
   "outputs": [
    {
     "data": {
      "text/html": [
       "<div>\n",
       "<style scoped>\n",
       "    .dataframe tbody tr th:only-of-type {\n",
       "        vertical-align: middle;\n",
       "    }\n",
       "\n",
       "    .dataframe tbody tr th {\n",
       "        vertical-align: top;\n",
       "    }\n",
       "\n",
       "    .dataframe thead th {\n",
       "        text-align: right;\n",
       "    }\n",
       "</style>\n",
       "<table border=\"1\" class=\"dataframe\">\n",
       "  <thead>\n",
       "    <tr style=\"text-align: right;\">\n",
       "      <th></th>\n",
       "      <th>userId</th>\n",
       "      <th>source</th>\n",
       "    </tr>\n",
       "  </thead>\n",
       "  <tbody>\n",
       "    <tr>\n",
       "      <th>0</th>\n",
       "      <td>020292ab-89bc-4156-9acf-68bc2783f894</td>\n",
       "      <td>other</td>\n",
       "    </tr>\n",
       "    <tr>\n",
       "      <th>1</th>\n",
       "      <td>cf7eda61-9349-469f-ac27-e5b6f5ec475c</td>\n",
       "      <td>yandex</td>\n",
       "    </tr>\n",
       "    <tr>\n",
       "      <th>2</th>\n",
       "      <td>8c356c42-3ba9-4cb6-80b8-3f868d0192c3</td>\n",
       "      <td>yandex</td>\n",
       "    </tr>\n",
       "    <tr>\n",
       "      <th>3</th>\n",
       "      <td>d9b06b47-0f36-419b-bbb0-3533e582a6cb</td>\n",
       "      <td>other</td>\n",
       "    </tr>\n",
       "    <tr>\n",
       "      <th>4</th>\n",
       "      <td>f32e1e2a-3027-4693-b793-b7b3ff274439</td>\n",
       "      <td>google</td>\n",
       "    </tr>\n",
       "    <tr>\n",
       "      <th>...</th>\n",
       "      <td>...</td>\n",
       "      <td>...</td>\n",
       "    </tr>\n",
       "    <tr>\n",
       "      <th>4288</th>\n",
       "      <td>b86fe56e-f2de-4f8a-b192-cd89a37ecd41</td>\n",
       "      <td>yandex</td>\n",
       "    </tr>\n",
       "    <tr>\n",
       "      <th>4289</th>\n",
       "      <td>424c0ae1-3ea3-4f1e-a814-6bac73e48ab1</td>\n",
       "      <td>yandex</td>\n",
       "    </tr>\n",
       "    <tr>\n",
       "      <th>4290</th>\n",
       "      <td>437a4cd4-9ba9-457f-8614-d142bc48fbeb</td>\n",
       "      <td>yandex</td>\n",
       "    </tr>\n",
       "    <tr>\n",
       "      <th>4291</th>\n",
       "      <td>c10055f0-0b47-477a-869e-d391b31fdf8f</td>\n",
       "      <td>yandex</td>\n",
       "    </tr>\n",
       "    <tr>\n",
       "      <th>4292</th>\n",
       "      <td>d157bffc-264d-4464-8220-1cc0c42f43a9</td>\n",
       "      <td>google</td>\n",
       "    </tr>\n",
       "  </tbody>\n",
       "</table>\n",
       "<p>4293 rows × 2 columns</p>\n",
       "</div>"
      ],
      "text/plain": [
       "                                    userId  source\n",
       "0     020292ab-89bc-4156-9acf-68bc2783f894   other\n",
       "1     cf7eda61-9349-469f-ac27-e5b6f5ec475c  yandex\n",
       "2     8c356c42-3ba9-4cb6-80b8-3f868d0192c3  yandex\n",
       "3     d9b06b47-0f36-419b-bbb0-3533e582a6cb   other\n",
       "4     f32e1e2a-3027-4693-b793-b7b3ff274439  google\n",
       "...                                    ...     ...\n",
       "4288  b86fe56e-f2de-4f8a-b192-cd89a37ecd41  yandex\n",
       "4289  424c0ae1-3ea3-4f1e-a814-6bac73e48ab1  yandex\n",
       "4290  437a4cd4-9ba9-457f-8614-d142bc48fbeb  yandex\n",
       "4291  c10055f0-0b47-477a-869e-d391b31fdf8f  yandex\n",
       "4292  d157bffc-264d-4464-8220-1cc0c42f43a9  google\n",
       "\n",
       "[4293 rows x 2 columns]"
      ]
     },
     "execution_count": 4,
     "metadata": {},
     "output_type": "execute_result"
    }
   ],
   "source": [
    "ms"
   ]
  },
  {
   "cell_type": "code",
   "execution_count": 5,
   "metadata": {
    "scrolled": false
   },
   "outputs": [
    {
     "data": {
      "text/html": [
       "<div>\n",
       "<style scoped>\n",
       "    .dataframe tbody tr th:only-of-type {\n",
       "        vertical-align: middle;\n",
       "    }\n",
       "\n",
       "    .dataframe tbody tr th {\n",
       "        vertical-align: top;\n",
       "    }\n",
       "\n",
       "    .dataframe thead th {\n",
       "        text-align: right;\n",
       "    }\n",
       "</style>\n",
       "<table border=\"1\" class=\"dataframe\">\n",
       "  <thead>\n",
       "    <tr style=\"text-align: right;\">\n",
       "      <th></th>\n",
       "      <th>event_time</th>\n",
       "      <th>event_name</th>\n",
       "      <th>user_id</th>\n",
       "    </tr>\n",
       "  </thead>\n",
       "  <tbody>\n",
       "    <tr>\n",
       "      <th>0</th>\n",
       "      <td>2019-10-07 00:00:00.431357</td>\n",
       "      <td>advert_open</td>\n",
       "      <td>020292ab-89bc-4156-9acf-68bc2783f894</td>\n",
       "    </tr>\n",
       "    <tr>\n",
       "      <th>1</th>\n",
       "      <td>2019-10-07 00:00:01.236320</td>\n",
       "      <td>tips_show</td>\n",
       "      <td>020292ab-89bc-4156-9acf-68bc2783f894</td>\n",
       "    </tr>\n",
       "    <tr>\n",
       "      <th>2</th>\n",
       "      <td>2019-10-07 00:00:02.245341</td>\n",
       "      <td>tips_show</td>\n",
       "      <td>cf7eda61-9349-469f-ac27-e5b6f5ec475c</td>\n",
       "    </tr>\n",
       "    <tr>\n",
       "      <th>3</th>\n",
       "      <td>2019-10-07 00:00:07.039334</td>\n",
       "      <td>tips_show</td>\n",
       "      <td>020292ab-89bc-4156-9acf-68bc2783f894</td>\n",
       "    </tr>\n",
       "    <tr>\n",
       "      <th>4</th>\n",
       "      <td>2019-10-07 00:00:56.319813</td>\n",
       "      <td>advert_open</td>\n",
       "      <td>cf7eda61-9349-469f-ac27-e5b6f5ec475c</td>\n",
       "    </tr>\n",
       "  </tbody>\n",
       "</table>\n",
       "</div>"
      ],
      "text/plain": [
       "                   event_time   event_name  \\\n",
       "0  2019-10-07 00:00:00.431357  advert_open   \n",
       "1  2019-10-07 00:00:01.236320    tips_show   \n",
       "2  2019-10-07 00:00:02.245341    tips_show   \n",
       "3  2019-10-07 00:00:07.039334    tips_show   \n",
       "4  2019-10-07 00:00:56.319813  advert_open   \n",
       "\n",
       "                                user_id  \n",
       "0  020292ab-89bc-4156-9acf-68bc2783f894  \n",
       "1  020292ab-89bc-4156-9acf-68bc2783f894  \n",
       "2  cf7eda61-9349-469f-ac27-e5b6f5ec475c  \n",
       "3  020292ab-89bc-4156-9acf-68bc2783f894  \n",
       "4  cf7eda61-9349-469f-ac27-e5b6f5ec475c  "
      ]
     },
     "execution_count": 5,
     "metadata": {},
     "output_type": "execute_result"
    }
   ],
   "source": [
    "md.columns = ['event_time', 'event_name', 'user_id']\n",
    "md.head()"
   ]
  },
  {
   "cell_type": "code",
   "execution_count": 6,
   "metadata": {
    "scrolled": true
   },
   "outputs": [
    {
     "data": {
      "text/html": [
       "<div>\n",
       "<style scoped>\n",
       "    .dataframe tbody tr th:only-of-type {\n",
       "        vertical-align: middle;\n",
       "    }\n",
       "\n",
       "    .dataframe tbody tr th {\n",
       "        vertical-align: top;\n",
       "    }\n",
       "\n",
       "    .dataframe thead th {\n",
       "        text-align: right;\n",
       "    }\n",
       "</style>\n",
       "<table border=\"1\" class=\"dataframe\">\n",
       "  <thead>\n",
       "    <tr style=\"text-align: right;\">\n",
       "      <th></th>\n",
       "      <th>user_id</th>\n",
       "      <th>source</th>\n",
       "    </tr>\n",
       "  </thead>\n",
       "  <tbody>\n",
       "    <tr>\n",
       "      <th>0</th>\n",
       "      <td>020292ab-89bc-4156-9acf-68bc2783f894</td>\n",
       "      <td>other</td>\n",
       "    </tr>\n",
       "    <tr>\n",
       "      <th>1</th>\n",
       "      <td>cf7eda61-9349-469f-ac27-e5b6f5ec475c</td>\n",
       "      <td>yandex</td>\n",
       "    </tr>\n",
       "    <tr>\n",
       "      <th>2</th>\n",
       "      <td>8c356c42-3ba9-4cb6-80b8-3f868d0192c3</td>\n",
       "      <td>yandex</td>\n",
       "    </tr>\n",
       "    <tr>\n",
       "      <th>3</th>\n",
       "      <td>d9b06b47-0f36-419b-bbb0-3533e582a6cb</td>\n",
       "      <td>other</td>\n",
       "    </tr>\n",
       "    <tr>\n",
       "      <th>4</th>\n",
       "      <td>f32e1e2a-3027-4693-b793-b7b3ff274439</td>\n",
       "      <td>google</td>\n",
       "    </tr>\n",
       "  </tbody>\n",
       "</table>\n",
       "</div>"
      ],
      "text/plain": [
       "                                user_id  source\n",
       "0  020292ab-89bc-4156-9acf-68bc2783f894   other\n",
       "1  cf7eda61-9349-469f-ac27-e5b6f5ec475c  yandex\n",
       "2  8c356c42-3ba9-4cb6-80b8-3f868d0192c3  yandex\n",
       "3  d9b06b47-0f36-419b-bbb0-3533e582a6cb   other\n",
       "4  f32e1e2a-3027-4693-b793-b7b3ff274439  google"
      ]
     },
     "execution_count": 6,
     "metadata": {},
     "output_type": "execute_result"
    }
   ],
   "source": [
    "ms.columns = ['user_id', 'source']\n",
    "ms.head()"
   ]
  },
  {
   "cell_type": "code",
   "execution_count": 8,
   "metadata": {
    "scrolled": true
   },
   "outputs": [
    {
     "data": {
      "text/html": [
       "<div>\n",
       "<style scoped>\n",
       "    .dataframe tbody tr th:only-of-type {\n",
       "        vertical-align: middle;\n",
       "    }\n",
       "\n",
       "    .dataframe tbody tr th {\n",
       "        vertical-align: top;\n",
       "    }\n",
       "\n",
       "    .dataframe thead th {\n",
       "        text-align: right;\n",
       "    }\n",
       "</style>\n",
       "<table border=\"1\" class=\"dataframe\">\n",
       "  <thead>\n",
       "    <tr style=\"text-align: right;\">\n",
       "      <th></th>\n",
       "      <th>event_time</th>\n",
       "      <th>event_name</th>\n",
       "      <th>user_id</th>\n",
       "    </tr>\n",
       "  </thead>\n",
       "  <tbody>\n",
       "    <tr>\n",
       "      <th>0</th>\n",
       "      <td>2019-10-07 00:00:00.431357</td>\n",
       "      <td>advert_open</td>\n",
       "      <td>020292ab-89bc-4156-9acf-68bc2783f894</td>\n",
       "    </tr>\n",
       "    <tr>\n",
       "      <th>1</th>\n",
       "      <td>2019-10-07 00:00:01.236320</td>\n",
       "      <td>tips_show</td>\n",
       "      <td>020292ab-89bc-4156-9acf-68bc2783f894</td>\n",
       "    </tr>\n",
       "    <tr>\n",
       "      <th>2</th>\n",
       "      <td>2019-10-07 00:00:02.245341</td>\n",
       "      <td>tips_show</td>\n",
       "      <td>cf7eda61-9349-469f-ac27-e5b6f5ec475c</td>\n",
       "    </tr>\n",
       "    <tr>\n",
       "      <th>3</th>\n",
       "      <td>2019-10-07 00:00:07.039334</td>\n",
       "      <td>tips_show</td>\n",
       "      <td>020292ab-89bc-4156-9acf-68bc2783f894</td>\n",
       "    </tr>\n",
       "    <tr>\n",
       "      <th>4</th>\n",
       "      <td>2019-10-07 00:00:56.319813</td>\n",
       "      <td>advert_open</td>\n",
       "      <td>cf7eda61-9349-469f-ac27-e5b6f5ec475c</td>\n",
       "    </tr>\n",
       "  </tbody>\n",
       "</table>\n",
       "</div>"
      ],
      "text/plain": [
       "                  event_time   event_name  \\\n",
       "0 2019-10-07 00:00:00.431357  advert_open   \n",
       "1 2019-10-07 00:00:01.236320    tips_show   \n",
       "2 2019-10-07 00:00:02.245341    tips_show   \n",
       "3 2019-10-07 00:00:07.039334    tips_show   \n",
       "4 2019-10-07 00:00:56.319813  advert_open   \n",
       "\n",
       "                                user_id  \n",
       "0  020292ab-89bc-4156-9acf-68bc2783f894  \n",
       "1  020292ab-89bc-4156-9acf-68bc2783f894  \n",
       "2  cf7eda61-9349-469f-ac27-e5b6f5ec475c  \n",
       "3  020292ab-89bc-4156-9acf-68bc2783f894  \n",
       "4  cf7eda61-9349-469f-ac27-e5b6f5ec475c  "
      ]
     },
     "execution_count": 8,
     "metadata": {},
     "output_type": "execute_result"
    }
   ],
   "source": [
    "md['event_time'] = pd.to_datetime(md['event_time'],  format='%Y.%m.%d')\n",
    "md.head()"
   ]
  },
  {
   "cell_type": "code",
   "execution_count": 9,
   "metadata": {
    "scrolled": false
   },
   "outputs": [
    {
     "data": {
      "text/html": [
       "<div>\n",
       "<style scoped>\n",
       "    .dataframe tbody tr th:only-of-type {\n",
       "        vertical-align: middle;\n",
       "    }\n",
       "\n",
       "    .dataframe tbody tr th {\n",
       "        vertical-align: top;\n",
       "    }\n",
       "\n",
       "    .dataframe thead th {\n",
       "        text-align: right;\n",
       "    }\n",
       "</style>\n",
       "<table border=\"1\" class=\"dataframe\">\n",
       "  <thead>\n",
       "    <tr style=\"text-align: right;\">\n",
       "      <th></th>\n",
       "      <th>event_time</th>\n",
       "      <th>event_name</th>\n",
       "      <th>user_id</th>\n",
       "      <th>source</th>\n",
       "    </tr>\n",
       "  </thead>\n",
       "  <tbody>\n",
       "    <tr>\n",
       "      <th>0</th>\n",
       "      <td>2019-10-07 00:00:00.431357</td>\n",
       "      <td>advert_open</td>\n",
       "      <td>020292ab-89bc-4156-9acf-68bc2783f894</td>\n",
       "      <td>other</td>\n",
       "    </tr>\n",
       "    <tr>\n",
       "      <th>1</th>\n",
       "      <td>2019-10-07 00:00:01.236320</td>\n",
       "      <td>tips_show</td>\n",
       "      <td>020292ab-89bc-4156-9acf-68bc2783f894</td>\n",
       "      <td>other</td>\n",
       "    </tr>\n",
       "    <tr>\n",
       "      <th>2</th>\n",
       "      <td>2019-10-07 00:00:07.039334</td>\n",
       "      <td>tips_show</td>\n",
       "      <td>020292ab-89bc-4156-9acf-68bc2783f894</td>\n",
       "      <td>other</td>\n",
       "    </tr>\n",
       "    <tr>\n",
       "      <th>3</th>\n",
       "      <td>2019-10-07 00:01:27.770232</td>\n",
       "      <td>advert_open</td>\n",
       "      <td>020292ab-89bc-4156-9acf-68bc2783f894</td>\n",
       "      <td>other</td>\n",
       "    </tr>\n",
       "    <tr>\n",
       "      <th>4</th>\n",
       "      <td>2019-10-07 00:01:34.804591</td>\n",
       "      <td>tips_show</td>\n",
       "      <td>020292ab-89bc-4156-9acf-68bc2783f894</td>\n",
       "      <td>other</td>\n",
       "    </tr>\n",
       "    <tr>\n",
       "      <th>...</th>\n",
       "      <td>...</td>\n",
       "      <td>...</td>\n",
       "      <td>...</td>\n",
       "      <td>...</td>\n",
       "    </tr>\n",
       "    <tr>\n",
       "      <th>74192</th>\n",
       "      <td>2019-11-03 23:46:47.068179</td>\n",
       "      <td>map</td>\n",
       "      <td>d157bffc-264d-4464-8220-1cc0c42f43a9</td>\n",
       "      <td>google</td>\n",
       "    </tr>\n",
       "    <tr>\n",
       "      <th>74193</th>\n",
       "      <td>2019-11-03 23:46:58.914787</td>\n",
       "      <td>advert_open</td>\n",
       "      <td>d157bffc-264d-4464-8220-1cc0c42f43a9</td>\n",
       "      <td>google</td>\n",
       "    </tr>\n",
       "    <tr>\n",
       "      <th>74194</th>\n",
       "      <td>2019-11-03 23:47:01.232230</td>\n",
       "      <td>tips_show</td>\n",
       "      <td>d157bffc-264d-4464-8220-1cc0c42f43a9</td>\n",
       "      <td>google</td>\n",
       "    </tr>\n",
       "    <tr>\n",
       "      <th>74195</th>\n",
       "      <td>2019-11-03 23:47:47.475102</td>\n",
       "      <td>advert_open</td>\n",
       "      <td>d157bffc-264d-4464-8220-1cc0c42f43a9</td>\n",
       "      <td>google</td>\n",
       "    </tr>\n",
       "    <tr>\n",
       "      <th>74196</th>\n",
       "      <td>2019-11-03 23:47:50.087645</td>\n",
       "      <td>tips_show</td>\n",
       "      <td>d157bffc-264d-4464-8220-1cc0c42f43a9</td>\n",
       "      <td>google</td>\n",
       "    </tr>\n",
       "  </tbody>\n",
       "</table>\n",
       "<p>74197 rows × 4 columns</p>\n",
       "</div>"
      ],
      "text/plain": [
       "                      event_time   event_name  \\\n",
       "0     2019-10-07 00:00:00.431357  advert_open   \n",
       "1     2019-10-07 00:00:01.236320    tips_show   \n",
       "2     2019-10-07 00:00:07.039334    tips_show   \n",
       "3     2019-10-07 00:01:27.770232  advert_open   \n",
       "4     2019-10-07 00:01:34.804591    tips_show   \n",
       "...                          ...          ...   \n",
       "74192 2019-11-03 23:46:47.068179          map   \n",
       "74193 2019-11-03 23:46:58.914787  advert_open   \n",
       "74194 2019-11-03 23:47:01.232230    tips_show   \n",
       "74195 2019-11-03 23:47:47.475102  advert_open   \n",
       "74196 2019-11-03 23:47:50.087645    tips_show   \n",
       "\n",
       "                                    user_id  source  \n",
       "0      020292ab-89bc-4156-9acf-68bc2783f894   other  \n",
       "1      020292ab-89bc-4156-9acf-68bc2783f894   other  \n",
       "2      020292ab-89bc-4156-9acf-68bc2783f894   other  \n",
       "3      020292ab-89bc-4156-9acf-68bc2783f894   other  \n",
       "4      020292ab-89bc-4156-9acf-68bc2783f894   other  \n",
       "...                                     ...     ...  \n",
       "74192  d157bffc-264d-4464-8220-1cc0c42f43a9  google  \n",
       "74193  d157bffc-264d-4464-8220-1cc0c42f43a9  google  \n",
       "74194  d157bffc-264d-4464-8220-1cc0c42f43a9  google  \n",
       "74195  d157bffc-264d-4464-8220-1cc0c42f43a9  google  \n",
       "74196  d157bffc-264d-4464-8220-1cc0c42f43a9  google  \n",
       "\n",
       "[74197 rows x 4 columns]"
      ]
     },
     "execution_count": 9,
     "metadata": {},
     "output_type": "execute_result"
    }
   ],
   "source": [
    "date = md.merge(ms, on='user_id')\n",
    "date"
   ]
  },
  {
   "cell_type": "code",
   "execution_count": 25,
   "metadata": {
    "scrolled": true
   },
   "outputs": [
    {
     "data": {
      "text/html": [
       "<div>\n",
       "<style scoped>\n",
       "    .dataframe tbody tr th:only-of-type {\n",
       "        vertical-align: middle;\n",
       "    }\n",
       "\n",
       "    .dataframe tbody tr th {\n",
       "        vertical-align: top;\n",
       "    }\n",
       "\n",
       "    .dataframe thead th {\n",
       "        text-align: right;\n",
       "    }\n",
       "</style>\n",
       "<table border=\"1\" class=\"dataframe\">\n",
       "  <thead>\n",
       "    <tr style=\"text-align: right;\">\n",
       "      <th></th>\n",
       "      <th>event_time</th>\n",
       "      <th>event_name</th>\n",
       "      <th>user_id</th>\n",
       "      <th>source</th>\n",
       "    </tr>\n",
       "  </thead>\n",
       "  <tbody>\n",
       "    <tr>\n",
       "      <th>0</th>\n",
       "      <td>2019-10-07 00:00:00.431357</td>\n",
       "      <td>advert_open</td>\n",
       "      <td>020292ab-89bc-4156-9acf-68bc2783f894</td>\n",
       "      <td>other</td>\n",
       "    </tr>\n",
       "    <tr>\n",
       "      <th>1</th>\n",
       "      <td>2019-10-07 00:00:01.236320</td>\n",
       "      <td>tips_show</td>\n",
       "      <td>020292ab-89bc-4156-9acf-68bc2783f894</td>\n",
       "      <td>other</td>\n",
       "    </tr>\n",
       "    <tr>\n",
       "      <th>2</th>\n",
       "      <td>2019-10-07 00:00:07.039334</td>\n",
       "      <td>tips_show</td>\n",
       "      <td>020292ab-89bc-4156-9acf-68bc2783f894</td>\n",
       "      <td>other</td>\n",
       "    </tr>\n",
       "    <tr>\n",
       "      <th>3</th>\n",
       "      <td>2019-10-07 00:01:27.770232</td>\n",
       "      <td>advert_open</td>\n",
       "      <td>020292ab-89bc-4156-9acf-68bc2783f894</td>\n",
       "      <td>other</td>\n",
       "    </tr>\n",
       "    <tr>\n",
       "      <th>4</th>\n",
       "      <td>2019-10-07 00:01:34.804591</td>\n",
       "      <td>tips_show</td>\n",
       "      <td>020292ab-89bc-4156-9acf-68bc2783f894</td>\n",
       "      <td>other</td>\n",
       "    </tr>\n",
       "    <tr>\n",
       "      <th>...</th>\n",
       "      <td>...</td>\n",
       "      <td>...</td>\n",
       "      <td>...</td>\n",
       "      <td>...</td>\n",
       "    </tr>\n",
       "    <tr>\n",
       "      <th>74192</th>\n",
       "      <td>2019-11-03 23:46:47.068179</td>\n",
       "      <td>map</td>\n",
       "      <td>d157bffc-264d-4464-8220-1cc0c42f43a9</td>\n",
       "      <td>google</td>\n",
       "    </tr>\n",
       "    <tr>\n",
       "      <th>74193</th>\n",
       "      <td>2019-11-03 23:46:58.914787</td>\n",
       "      <td>advert_open</td>\n",
       "      <td>d157bffc-264d-4464-8220-1cc0c42f43a9</td>\n",
       "      <td>google</td>\n",
       "    </tr>\n",
       "    <tr>\n",
       "      <th>74194</th>\n",
       "      <td>2019-11-03 23:47:01.232230</td>\n",
       "      <td>tips_show</td>\n",
       "      <td>d157bffc-264d-4464-8220-1cc0c42f43a9</td>\n",
       "      <td>google</td>\n",
       "    </tr>\n",
       "    <tr>\n",
       "      <th>74195</th>\n",
       "      <td>2019-11-03 23:47:47.475102</td>\n",
       "      <td>advert_open</td>\n",
       "      <td>d157bffc-264d-4464-8220-1cc0c42f43a9</td>\n",
       "      <td>google</td>\n",
       "    </tr>\n",
       "    <tr>\n",
       "      <th>74196</th>\n",
       "      <td>2019-11-03 23:47:50.087645</td>\n",
       "      <td>tips_show</td>\n",
       "      <td>d157bffc-264d-4464-8220-1cc0c42f43a9</td>\n",
       "      <td>google</td>\n",
       "    </tr>\n",
       "  </tbody>\n",
       "</table>\n",
       "<p>74197 rows × 4 columns</p>\n",
       "</div>"
      ],
      "text/plain": [
       "                      event_time   event_name  \\\n",
       "0     2019-10-07 00:00:00.431357  advert_open   \n",
       "1     2019-10-07 00:00:01.236320    tips_show   \n",
       "2     2019-10-07 00:00:07.039334    tips_show   \n",
       "3     2019-10-07 00:01:27.770232  advert_open   \n",
       "4     2019-10-07 00:01:34.804591    tips_show   \n",
       "...                          ...          ...   \n",
       "74192 2019-11-03 23:46:47.068179          map   \n",
       "74193 2019-11-03 23:46:58.914787  advert_open   \n",
       "74194 2019-11-03 23:47:01.232230    tips_show   \n",
       "74195 2019-11-03 23:47:47.475102  advert_open   \n",
       "74196 2019-11-03 23:47:50.087645    tips_show   \n",
       "\n",
       "                                    user_id  source  \n",
       "0      020292ab-89bc-4156-9acf-68bc2783f894   other  \n",
       "1      020292ab-89bc-4156-9acf-68bc2783f894   other  \n",
       "2      020292ab-89bc-4156-9acf-68bc2783f894   other  \n",
       "3      020292ab-89bc-4156-9acf-68bc2783f894   other  \n",
       "4      020292ab-89bc-4156-9acf-68bc2783f894   other  \n",
       "...                                     ...     ...  \n",
       "74192  d157bffc-264d-4464-8220-1cc0c42f43a9  google  \n",
       "74193  d157bffc-264d-4464-8220-1cc0c42f43a9  google  \n",
       "74194  d157bffc-264d-4464-8220-1cc0c42f43a9  google  \n",
       "74195  d157bffc-264d-4464-8220-1cc0c42f43a9  google  \n",
       "74196  d157bffc-264d-4464-8220-1cc0c42f43a9  google  \n",
       "\n",
       "[74197 rows x 4 columns]"
      ]
     },
     "execution_count": 25,
     "metadata": {},
     "output_type": "execute_result"
    }
   ],
   "source": [
    "date['event_time'].astype('datetime64[s]')\n",
    "date"
   ]
  },
  {
   "cell_type": "code",
   "execution_count": 28,
   "metadata": {
    "scrolled": true
   },
   "outputs": [
    {
     "data": {
      "text/html": [
       "<div>\n",
       "<style scoped>\n",
       "    .dataframe tbody tr th:only-of-type {\n",
       "        vertical-align: middle;\n",
       "    }\n",
       "\n",
       "    .dataframe tbody tr th {\n",
       "        vertical-align: top;\n",
       "    }\n",
       "\n",
       "    .dataframe thead th {\n",
       "        text-align: right;\n",
       "    }\n",
       "</style>\n",
       "<table border=\"1\" class=\"dataframe\">\n",
       "  <thead>\n",
       "    <tr style=\"text-align: right;\">\n",
       "      <th></th>\n",
       "      <th>event_datetime</th>\n",
       "      <th>event_name</th>\n",
       "      <th>user_id</th>\n",
       "      <th>source</th>\n",
       "    </tr>\n",
       "  </thead>\n",
       "  <tbody>\n",
       "    <tr>\n",
       "      <th>0</th>\n",
       "      <td>2019-10-07 00:00:00.431357</td>\n",
       "      <td>advert_open</td>\n",
       "      <td>020292ab-89bc-4156-9acf-68bc2783f894</td>\n",
       "      <td>other</td>\n",
       "    </tr>\n",
       "    <tr>\n",
       "      <th>1</th>\n",
       "      <td>2019-10-07 00:00:01.236320</td>\n",
       "      <td>tips_show</td>\n",
       "      <td>020292ab-89bc-4156-9acf-68bc2783f894</td>\n",
       "      <td>other</td>\n",
       "    </tr>\n",
       "    <tr>\n",
       "      <th>2</th>\n",
       "      <td>2019-10-07 00:00:07.039334</td>\n",
       "      <td>tips_show</td>\n",
       "      <td>020292ab-89bc-4156-9acf-68bc2783f894</td>\n",
       "      <td>other</td>\n",
       "    </tr>\n",
       "    <tr>\n",
       "      <th>3</th>\n",
       "      <td>2019-10-07 00:01:27.770232</td>\n",
       "      <td>advert_open</td>\n",
       "      <td>020292ab-89bc-4156-9acf-68bc2783f894</td>\n",
       "      <td>other</td>\n",
       "    </tr>\n",
       "    <tr>\n",
       "      <th>4</th>\n",
       "      <td>2019-10-07 00:01:34.804591</td>\n",
       "      <td>tips_show</td>\n",
       "      <td>020292ab-89bc-4156-9acf-68bc2783f894</td>\n",
       "      <td>other</td>\n",
       "    </tr>\n",
       "  </tbody>\n",
       "</table>\n",
       "</div>"
      ],
      "text/plain": [
       "              event_datetime   event_name  \\\n",
       "0 2019-10-07 00:00:00.431357  advert_open   \n",
       "1 2019-10-07 00:00:01.236320    tips_show   \n",
       "2 2019-10-07 00:00:07.039334    tips_show   \n",
       "3 2019-10-07 00:01:27.770232  advert_open   \n",
       "4 2019-10-07 00:01:34.804591    tips_show   \n",
       "\n",
       "                                user_id source  \n",
       "0  020292ab-89bc-4156-9acf-68bc2783f894  other  \n",
       "1  020292ab-89bc-4156-9acf-68bc2783f894  other  \n",
       "2  020292ab-89bc-4156-9acf-68bc2783f894  other  \n",
       "3  020292ab-89bc-4156-9acf-68bc2783f894  other  \n",
       "4  020292ab-89bc-4156-9acf-68bc2783f894  other  "
      ]
     },
     "execution_count": 28,
     "metadata": {},
     "output_type": "execute_result"
    }
   ],
   "source": [
    "date.columns = ['event_datetime', 'event_name', 'user_id', 'source']\n",
    "date.head()"
   ]
  },
  {
   "cell_type": "code",
   "execution_count": 30,
   "metadata": {},
   "outputs": [],
   "source": [
    "date.to_csv('date.csv')"
   ]
  },
  {
   "cell_type": "markdown",
   "metadata": {},
   "source": [
    "### Вывод по загрузке\n",
    "Датасеты:\n",
    "Event 74197x3\n",
    "Source 4293x2\n",
    "Задание на предобработку:\n",
    "- переназвать столбцы\n",
    "- убрать милисек\n",
    "- выровнять форматы\n",
    "- смерджить \n",
    "- проверить NaN\n",
    "- убрать дубликаты\n",
    "- назвать ДатаСет data"
   ]
  },
  {
   "cell_type": "markdown",
   "metadata": {},
   "source": [
    "## Предобработка данных"
   ]
  },
  {
   "cell_type": "markdown",
   "metadata": {},
   "source": [
    "### Действия\n",
    "Выполнить задание по предобработке оставить в покое ДатаСет data\n",
    "Отпочковать ДатаСет df в нём сделать следующее:\n",
    "- проверить типы данных,\n",
    "- изменить на месте show_contacts --> в наоборот\n",
    "- объединить serch1-7\n",
    "- добавить столбцы, округлённые до часа, дня, недели"
   ]
  },
  {
   "cell_type": "markdown",
   "metadata": {},
   "source": [
    "### Вывод по предобработке\n",
    "перечислить"
   ]
  },
  {
   "cell_type": "markdown",
   "metadata": {},
   "source": [
    "## Исследовательский анализ данных EDA"
   ]
  },
  {
   "cell_type": "markdown",
   "metadata": {},
   "source": [
    "\n",
    "### Действия\n",
    "- Сколько пользователей\n",
    "- Подсчитать колличество событий\n",
    "- Отфиксировать временной диапазон\n",
    "- Сравнить плотность данных по диапазону\n",
    "- Оцифровать активность пользователей (t-период, n-действий)\n",
    "- Найдём для каждого id его n_1 событие в t_0 период и \n",
    "- Произведём разметку по таймингу действий: для каждого n_x найдём n_x+1, его время t_y+1 и разницу t_y+1 - t_y = t_z, которую запишем в отдельный столбец dif или в отдельную переменную \"events\", содержащую все n,t,x,y,z, и т.п."
   ]
  },
  {
   "cell_type": "markdown",
   "metadata": {},
   "source": [
    "Ранжируем сессии по:\n",
    "- колличеству действий, \n",
    "-продолжительности (хотя скорее всего за период сессии возьмём - сутки, как было рекомендовано в Слаке), \n",
    "- разграничим сессии по типу первого и последнего действий\n",
    "- Посчитаем самые частые события m\n",
    "- Посчитаем пользователей, совершавших событие m_i\n",
    "- Волюнтаристски назначим 3 воронки V и для каждой соберём набор m"
   ]
  },
  {
   "cell_type": "markdown",
   "metadata": {},
   "source": [
    "Воронки, скорее всего, будут такие:\n",
    "\n",
    "- V1 tips_show\n",
    "tips_click\n",
    "contacts_show\n",
    "\n",
    "- V2 search\n",
    "advert_open\n",
    "contacts_show\n",
    "\n",
    "- V3 map\n",
    "advert_open\n",
    "contacts_show"
   ]
  },
  {
   "cell_type": "markdown",
   "metadata": {},
   "source": [
    "Создадим Pivot_1,2,3\n",
    "Отобразим ворОнки графически\n",
    "Если получится, то с \"красотой\" через функцию, как было в Задании."
   ]
  },
  {
   "cell_type": "markdown",
   "metadata": {},
   "source": [
    "### Вывод по EDA\n",
    "перечислить"
   ]
  },
  {
   "cell_type": "markdown",
   "metadata": {},
   "source": [
    "## Сегментирование пользователей"
   ]
  },
  {
   "cell_type": "markdown",
   "metadata": {},
   "source": [
    "### Действия\n",
    "- Через groupby последовательно аггрегируем df по полям из V1,2,3\n",
    "- Посмотрим на результат через призму квартилей\n",
    "- При сегментировании используем имеющиеся в наличии в полученном ДатаСете варианты в соответствии с ТЗ: \n",
    "- Ключевой параметр - отношение к show_contacts\n",
    "- Остальные из вариантов: Источники трафика, Просмотр фото, часто-редко."
   ]
  },
  {
   "cell_type": "markdown",
   "metadata": {},
   "source": [
    "Цель - подобрать более-менее ровные сегменты, имеющие бизнес-логику с точки зрения возможности управления содержимым."
   ]
  },
  {
   "cell_type": "markdown",
   "metadata": {},
   "source": [
    "### Вывод по сегментации \n",
    "Выделить наиболее бизнесовые варианты из полученных от Заказчика данных.\n",
    "Для первой итерации - минимум самодеятельности (её дать в рекомендациях)"
   ]
  },
  {
   "cell_type": "markdown",
   "metadata": {},
   "source": [
    "## Проверка статистических гипотез:"
   ]
  },
  {
   "cell_type": "markdown",
   "metadata": {},
   "source": [
    "### Гипотеза 1: Группы пользователей, установивших приложение по ссылке из yandex и  google, демонстрируют разную конверсию в просмотры контактов.  \n",
    "- Эту примем за H0: конверсии в просмотры контактов между теми пользователями, которые совершили установку приложения, придя с источника yandex и пользователями, совершившими установки из источника google, статистически значимо различаются.\n",
    "- Альтернативная гипотеза H1: среди пользователей, совершивших установку из разных источников, конверсия статистически значимо не различается."
   ]
  },
  {
   "cell_type": "markdown",
   "metadata": {},
   "source": [
    "### Гипотеза 2: Группы пользователей, которые сомотрят и не смотрят фото, демонстрируют одинаковую конверсию в просмотры контактов. \n",
    "- Формулировка нулевой гипотезы H0 будет звучать так: конверсии в просмотры контактов между теми пользователями, которые сомотрят и не смотрят фото, равны\n",
    "- Альтернативная гипотеза H1: конверсии пользователей, которые сомотрят и не смотрят фото, различаются"
   ]
  },
  {
   "cell_type": "markdown",
   "metadata": {},
   "source": [
    "## Презентация"
   ]
  },
  {
   "cell_type": "markdown",
   "metadata": {},
   "source": [
    "### Ссылка"
   ]
  },
  {
   "cell_type": "markdown",
   "metadata": {},
   "source": [
    "## Общие выводы"
   ]
  },
  {
   "cell_type": "markdown",
   "metadata": {},
   "source": [
    "### Текстовка\n",
    "- Что-нибудь про ворОнки\n",
    "- Что-нибудь про сегменты\n",
    "- Что-нибудь про гипотезы"
   ]
  },
  {
   "cell_type": "markdown",
   "metadata": {},
   "source": [
    "## Рекомендации"
   ]
  },
  {
   "cell_type": "markdown",
   "metadata": {},
   "source": [
    "### Текстовка\n",
    "- Что-нибудь про разметку данных\n",
    "- Что-нибудь про деление сессий по факту, а не по суткам - при заинтересованности. \n",
    "- Что-нибудь про грёзы об ML"
   ]
  },
  {
   "cell_type": "markdown",
   "metadata": {},
   "source": [
    "<div class=\"alert alert-success\" style=\"border-radius: 15px; box-shadow: 4px 4px 4px; border: 1px solid \" ><b> ⬆ Комментарии от тимлида ✔️ : </b> \n",
    "\n",
    "Спасибо за декомпозицию! По общей структуре и содержанию замечаний нет. Ты подробно расписал ход своего исследования и представила все важные моменты. По результатам исследовательского этапа ты сможешь сформировать ответы на вопросы заказчика. Молодец!\n",
    "    \n",
    "Собственная гипотеза рабочая. Данная информация будет полезна для оценки данного функционала\n",
    "    \n",
    "Можно приступать к выполнению проекта\n",
    "    \n",
    "Если возникнут какие то вопросы, то всегда можешь написать в группу slack. Так будет быстрее\n",
    "\n",
    "</div>"
   ]
  }
 ],
 "metadata": {
  "kernelspec": {
   "display_name": "Python 3 (ipykernel)",
   "language": "python",
   "name": "python3"
  },
  "language_info": {
   "codemirror_mode": {
    "name": "ipython",
    "version": 3
   },
   "file_extension": ".py",
   "mimetype": "text/x-python",
   "name": "python",
   "nbconvert_exporter": "python",
   "pygments_lexer": "ipython3",
   "version": "3.9.7"
  },
  "toc": {
   "base_numbering": 1,
   "nav_menu": {},
   "number_sections": true,
   "sideBar": true,
   "skip_h1_title": true,
   "title_cell": "Table of Contents",
   "title_sidebar": "Contents",
   "toc_cell": true,
   "toc_position": {},
   "toc_section_display": true,
   "toc_window_display": true
  }
 },
 "nbformat": 4,
 "nbformat_minor": 2
}
