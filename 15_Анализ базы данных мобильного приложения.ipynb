{
 "cells": [
  {
   "cell_type": "markdown",
   "metadata": {},
   "source": [
    "<div style=\"border-radius: 15px; box-shadow: 2px 2px 4px; border: 1px solid; background:#bdc3c7; padding: 20px\"> <h7 style=\"color:black; margin-bottom:20px\"> Сергей, привет!) Это Михаил.\n",
    "\n",
    "Мои комментарии и замечания далее по тексту помечены различными цветами:\n",
    "    \n",
    "---    \n",
    "<div class=\"alert alert-block alert-danger\">\n",
    "❌ : Критическое замечание, которые следует исправить.\n",
    "</div> \n",
    "    \n",
    "---\n",
    "    \n",
    "<div class=\"alert alert-block alert-warning\">\n",
    "⚠️ : Замечание\\совет на будущее.\n",
    "</div>\n",
    "    \n",
    "---\n",
    "    \n",
    "<div class=\"alert alert-block alert-success\">\n",
    "✔️ : Когда всё сделано правильно.\n",
    "</div>\n",
    "\n",
    "---\n",
    "\n",
    "Если возникнут вопросы по проекту или вопросы общего характера, то не стесняйся - задавай!) Для того, чтобы мне было легче их найти, то выделяй их пожалуйста с помощью цвета, например вот так - <font color=#e17055>\"вопрос, который не останется незамеченным\"</font>\n",
    "        \n",
    "    \n",
    "p.s.: не удаляй мои замечания, если предстоит что то доработать в проекте.</h7>"
   ]
  },
  {
   "cell_type": "markdown",
   "metadata": {},
   "source": [
    "<div class=\"alert alert-success\" style=\"border-radius: 15px; box-shadow: 4px 4px 4px; border: 1px solid \" > <b>Комментарии от ревьюера ✔️ : </b> \n",
    "\n",
    "Итог ревью - ты проделал отличную работу! Все запросы корректные и дают правильный результат. Ты наглядно показал умение формировать запросы SQL для решения подобных задач. Так держать! \n",
    "    \n",
    "Поздравляю с завершением финального спринта! Особенно ценно, что ты полностью уложился в дедлайн 👏\n",
    "    \n",
    "![](https://media.giphy.com/media/SkwbfLHO0a1lS/giphy.gif)\n",
    "    \n",
    "Остается дождаться финального созвона в ближайшее время)\n",
    "</div>"
   ]
  },
  {
   "cell_type": "markdown",
   "metadata": {
    "toc": true
   },
   "source": [
    "<h1>Table of Contents<span class=\"tocSkip\"></span></h1>\n",
    "<div class=\"toc\"><ul class=\"toc-item\"><li><span><a href=\"#Загрузка-библиотек-и-данных\" data-toc-modified-id=\"Загрузка-библиотек-и-данных-1\"><span class=\"toc-item-num\">1&nbsp;&nbsp;</span>Загрузка библиотек и данных</a></span><ul class=\"toc-item\"><li><span><a href=\"#Техническое-задание\" data-toc-modified-id=\"Техническое-задание-1.1\"><span class=\"toc-item-num\">1.1&nbsp;&nbsp;</span>Техническое задание</a></span></li><li><span><a href=\"#Описание-данных\" data-toc-modified-id=\"Описание-данных-1.2\"><span class=\"toc-item-num\">1.2&nbsp;&nbsp;</span>Описание данных</a></span><ul class=\"toc-item\"><li><span><a href=\"#Таблица-books\" data-toc-modified-id=\"Таблица-books-1.2.1\"><span class=\"toc-item-num\">1.2.1&nbsp;&nbsp;</span>Таблица books</a></span></li><li><span><a href=\"#Таблица-authors\" data-toc-modified-id=\"Таблица-authors-1.2.2\"><span class=\"toc-item-num\">1.2.2&nbsp;&nbsp;</span>Таблица authors</a></span></li><li><span><a href=\"#Таблица-ratings\" data-toc-modified-id=\"Таблица-ratings-1.2.3\"><span class=\"toc-item-num\">1.2.3&nbsp;&nbsp;</span>Таблица ratings</a></span></li><li><span><a href=\"#Таблица-reviews\" data-toc-modified-id=\"Таблица-reviews-1.2.4\"><span class=\"toc-item-num\">1.2.4&nbsp;&nbsp;</span>Таблица reviews</a></span></li><li><span><a href=\"#Схема-данных\" data-toc-modified-id=\"Схема-данных-1.2.5\"><span class=\"toc-item-num\">1.2.5&nbsp;&nbsp;</span>Схема данных</a></span></li></ul></li><li><span><a href=\"#Загрузка-библиотек\" data-toc-modified-id=\"Загрузка-библиотек-1.3\"><span class=\"toc-item-num\">1.3&nbsp;&nbsp;</span>Загрузка библиотек</a></span></li><li><span><a href=\"#Загрузка-данных\" data-toc-modified-id=\"Загрузка-данных-1.4\"><span class=\"toc-item-num\">1.4&nbsp;&nbsp;</span>Загрузка данных</a></span><ul class=\"toc-item\"><li><span><a href=\"#Таблица-books\" data-toc-modified-id=\"Таблица-books-1.4.1\"><span class=\"toc-item-num\">1.4.1&nbsp;&nbsp;</span>Таблица books</a></span></li><li><span><a href=\"#Таблица-authors\" data-toc-modified-id=\"Таблица-authors-1.4.2\"><span class=\"toc-item-num\">1.4.2&nbsp;&nbsp;</span>Таблица authors</a></span></li><li><span><a href=\"#Таблица-publishers\" data-toc-modified-id=\"Таблица-publishers-1.4.3\"><span class=\"toc-item-num\">1.4.3&nbsp;&nbsp;</span>Таблица publishers</a></span></li><li><span><a href=\"#Таблица-ratings\" data-toc-modified-id=\"Таблица-ratings-1.4.4\"><span class=\"toc-item-num\">1.4.4&nbsp;&nbsp;</span>Таблица ratings</a></span></li><li><span><a href=\"#Таблица-reviews\" data-toc-modified-id=\"Таблица-reviews-1.4.5\"><span class=\"toc-item-num\">1.4.5&nbsp;&nbsp;</span>Таблица reviews</a></span></li></ul></li></ul></li><li><span><a href=\"#Формулировка-запросов-к-БД\" data-toc-modified-id=\"Формулировка-запросов-к-БД-2\"><span class=\"toc-item-num\">2&nbsp;&nbsp;</span>Формулировка запросов к БД</a></span><ul class=\"toc-item\"><li><span><a href=\"#Количество-книг,-выпущенных-после-1-января-2000-года:\" data-toc-modified-id=\"Количество-книг,-выпущенных-после-1-января-2000-года:-2.1\"><span class=\"toc-item-num\">2.1&nbsp;&nbsp;</span>Количество книг, выпущенных после 1 января 2000 года:</a></span><ul class=\"toc-item\"><li><span><a href=\"#Ответ:-После-1-января-2000-года-было-выпущено-821-книг.\" data-toc-modified-id=\"Ответ:-После-1-января-2000-года-было-выпущено-821-книг.-2.1.1\"><span class=\"toc-item-num\">2.1.1&nbsp;&nbsp;</span>Ответ: После 1 января 2000 года было выпущено 821 книг.</a></span></li></ul></li><li><span><a href=\"#Сколько-пользовательских-обзоров-и-какова-средняя-оценка-для-каждой-книги;\" data-toc-modified-id=\"Сколько-пользовательских-обзоров-и-какова-средняя-оценка-для-каждой-книги;-2.2\"><span class=\"toc-item-num\">2.2&nbsp;&nbsp;</span>Сколько пользовательских обзоров и какова средняя оценка для каждой книги;</a></span><ul class=\"toc-item\"><li><span><a href=\"#Ответ:-Таблица-reviews-&amp;-rating\" data-toc-modified-id=\"Ответ:-Таблица-reviews-&amp;-rating-2.2.1\"><span class=\"toc-item-num\">2.2.1&nbsp;&nbsp;</span>Ответ: Таблица reviews &amp; rating</a></span></li></ul></li><li><span><a href=\"#Издательство,-которое-выпустило-наибольшее-число-книг-толще-50-страниц\" data-toc-modified-id=\"Издательство,-которое-выпустило-наибольшее-число-книг-толще-50-страниц-2.3\"><span class=\"toc-item-num\">2.3&nbsp;&nbsp;</span>Издательство, которое выпустило наибольшее число книг толще 50 страниц</a></span><ul class=\"toc-item\"><li><span><a href=\"#Ответ:-Издательство-Penguin-Books----выпустило-42-книги-толще-50-страниц.\" data-toc-modified-id=\"Ответ:-Издательство-Penguin-Books----выпустило-42-книги-толще-50-страниц.-2.3.1\"><span class=\"toc-item-num\">2.3.1&nbsp;&nbsp;</span>Ответ: Издательство Penguin Books    выпустило 42 книги толще 50 страниц.</a></span></li></ul></li><li><span><a href=\"#Автора-с-самой-высокой-средней-оценкой-книг,-получивших-более-50-и-более-оценок\" data-toc-modified-id=\"Автора-с-самой-высокой-средней-оценкой-книг,-получивших-более-50-и-более-оценок-2.4\"><span class=\"toc-item-num\">2.4&nbsp;&nbsp;</span>Автора с самой высокой средней оценкой книг, получивших более 50 и более оценок</a></span><ul class=\"toc-item\"><li><span><a href=\"#Ответ:-Автор-J.K.-Rowling/Mary-GrandPré-,----рейтинг-4.28,-количество-оценок\" data-toc-modified-id=\"Ответ:-Автор-J.K.-Rowling/Mary-GrandPré-,----рейтинг-4.28,-количество-оценок-2.4.1\"><span class=\"toc-item-num\">2.4.1&nbsp;&nbsp;</span>Ответ: Автор J.K. Rowling/Mary GrandPré ,    рейтинг 4.28, количество оценок</a></span></li></ul></li><li><span><a href=\"#Среднее-количество-обзоров-от-пользователей,-которые-поставили-больше-50-оценок\" data-toc-modified-id=\"Среднее-количество-обзоров-от-пользователей,-которые-поставили-больше-50-оценок-2.5\"><span class=\"toc-item-num\">2.5&nbsp;&nbsp;</span>Среднее количество обзоров от пользователей, которые поставили больше 50 оценок</a></span><ul class=\"toc-item\"><li><span><a href=\"#Ответ:-среднее-количество-обзоров-от-пользователей,-которые-поставили-больше-50-оценок,-составляет-24,0\" data-toc-modified-id=\"Ответ:-среднее-количество-обзоров-от-пользователей,-которые-поставили-больше-50-оценок,-составляет-24,0-2.5.1\"><span class=\"toc-item-num\">2.5.1&nbsp;&nbsp;</span>Ответ: среднее количество обзоров от пользователей, которые поставили больше 50 оценок, составляет 24,0</a></span></li></ul></li></ul></li></ul></div>"
   ]
  },
  {
   "cell_type": "markdown",
   "metadata": {},
   "source": [
    "# Приложение для чтения книг (работа с SQL)"
   ]
  },
  {
   "cell_type": "markdown",
   "metadata": {},
   "source": [
    "## Загрузка библиотек и данных"
   ]
  },
  {
   "cell_type": "markdown",
   "metadata": {},
   "source": [
    "### Техническое задание"
   ]
  },
  {
   "cell_type": "markdown",
   "metadata": {},
   "source": [
    "- Посчитайте, сколько книг вышло после 1 января 2000 года;\n",
    "- Для каждой книги посчитайте количество обзоров и среднюю оценку;\n",
    "- Определите издательство, которое выпустило наибольшее число книг толще 50 страниц — так вы исключите из анализа брошюры;\n",
    "- Определите автора с самой высокой средней оценкой книг — учитывайте только книги с 50 и более оценками;\n",
    "- Посчитайте среднее количество обзоров от пользователей, которые поставили больше 50 оценок."
   ]
  },
  {
   "cell_type": "markdown",
   "metadata": {},
   "source": [
    "### Описание данных\n",
    "\n",
    "####  Таблица books\n",
    "  Содержит данные о книгах:\n",
    "- book_id — идентификатор книги;\n",
    "- author_id — идентификатор автора;\n",
    "- title — название книги;\n",
    "- num_pages — количество страниц;\n",
    "- publication_date — дата публикации книги;\n",
    "- publisher_id — идентификатор издателя.\n",
    "\n",
    "####  Таблица authors\n",
    "  Содержит данные об авторах:\n",
    "- author_id — идентификатор автора;\n",
    "- author — имя автора.\n",
    "  Таблица publishers\n",
    "- Содержит данные об издательствах:\n",
    "- publisher_id — идентификатор издательства;\n",
    "- publisher — название издательства;\n",
    "\n",
    "####  Таблица ratings\n",
    "  Содержит данные о пользовательских оценках книг:\n",
    "- rating_id — идентификатор оценки;\n",
    "- book_id — идентификатор книги;\n",
    "- username — имя пользователя, оставившего оценку;\n",
    "- rating — оценка книги.\n",
    "\n",
    "#### Таблица reviews\n",
    "  Содержит данные о пользовательских обзорах:\n",
    "- review_id — идентификатор обзора;\n",
    "- book_id — идентификатор книги;\n",
    "- username — имя автора обзора;\n",
    "- text — текст обзора."
   ]
  },
  {
   "cell_type": "markdown",
   "metadata": {},
   "source": [
    "#### Схема данных"
   ]
  },
  {
   "attachments": {
    "image.png": {
     "image/png": "[encoded data removed]"
    }
   },
   "cell_type": "markdown",
   "metadata": {},
   "source": [
    "![image.png](attachment:image.png)"
   ]
  },
  {
   "cell_type": "markdown",
   "metadata": {},
   "source": [
    "### Загрузка библиотек"
   ]
  },
  {
   "cell_type": "code",
   "execution_count": 1,
   "metadata": {},
   "outputs": [],
   "source": [
    "# импортирт библиотеки\n",
    "import pandas as pd\n",
    "from sqlalchemy import create_engine\n",
    "\n",
    "# устанавка параметров\n",
    "db_config = {'user': 'praktikum_student', # имя пользователя\n",
    " 'pwd': 'Sdf4$2;d-d30pp', # пароль\n",
    " 'host': 'rc1b-wcoijxj3yxfsf3fs.mdb.yandexcloud.net',\n",
    " 'port': 6432, # порт подключения\n",
    " 'db': 'data-analyst-final-project-db'} # название базы данных\n",
    "connection_string = 'postgresql://{}:{}@{}:{}/{}'.format(db_config['user'],\n",
    " db_config['pwd'],\n",
    " db_config['host'],\n",
    " db_config['port'],\n",
    " db_config['db'])\n",
    "# коннектор\n",
    "engine = create_engine(connection_string, connect_args={'sslmode':'require'}) "
   ]
  },
  {
   "cell_type": "markdown",
   "metadata": {},
   "source": [
    "<div class=\"alert alert-warning\" style=\"border-radius: 15px; box-shadow: 4px 4px 4px; border: 1px solid \" > <b>Комментарии от ревьюера ⚠️ : </b> \n",
    "\n",
    "Предлагаю разделять логически разные вещи:\n",
    "\n",
    "    - импорты библиотек\n",
    "    - открытие данных (это может быть не тривиальный процесс)\n",
    "    - рабочий код\n",
    "    \n",
    "Такой подход позволит улучшить читаемость кода, снизит время поиска ошибок если они есть и исключит повторное выполнение кода\n",
    "</div>"
   ]
  },
  {
   "cell_type": "code",
   "execution_count": 2,
   "metadata": {},
   "outputs": [],
   "source": [
    "def select(sql):\n",
    "    return pd.io.sql.read_sql(sql, con = engine)"
   ]
  },
  {
   "cell_type": "markdown",
   "metadata": {},
   "source": [
    "### Загрузка данных"
   ]
  },
  {
   "cell_type": "markdown",
   "metadata": {},
   "source": [
    "#### Таблица books"
   ]
  },
  {
   "cell_type": "code",
   "execution_count": 3,
   "metadata": {},
   "outputs": [
    {
     "name": "stdout",
     "output_type": "stream",
     "text": [
      "таблица BOOKS\n"
     ]
    },
    {
     "data": {
      "text/html": [
       "<div>\n",
       "<style scoped>\n",
       "    .dataframe tbody tr th:only-of-type {\n",
       "        vertical-align: middle;\n",
       "    }\n",
       "\n",
       "    .dataframe tbody tr th {\n",
       "        vertical-align: top;\n",
       "    }\n",
       "\n",
       "    .dataframe thead th {\n",
       "        text-align: right;\n",
       "    }\n",
       "</style>\n",
       "<table border=\"1\" class=\"dataframe\">\n",
       "  <thead>\n",
       "    <tr style=\"text-align: right;\">\n",
       "      <th></th>\n",
       "      <th>book_id</th>\n",
       "      <th>author_id</th>\n",
       "      <th>title</th>\n",
       "      <th>num_pages</th>\n",
       "      <th>publication_date</th>\n",
       "      <th>publisher_id</th>\n",
       "    </tr>\n",
       "  </thead>\n",
       "  <tbody>\n",
       "    <tr>\n",
       "      <th>0</th>\n",
       "      <td>1</td>\n",
       "      <td>546</td>\n",
       "      <td>'Salem's Lot</td>\n",
       "      <td>594</td>\n",
       "      <td>2005-11-01</td>\n",
       "      <td>93</td>\n",
       "    </tr>\n",
       "  </tbody>\n",
       "</table>\n",
       "</div>"
      ],
      "text/plain": [
       "   book_id  author_id         title  num_pages publication_date  publisher_id\n",
       "0        1        546  'Salem's Lot        594       2005-11-01            93"
      ]
     },
     "metadata": {},
     "output_type": "display_data"
    },
    {
     "name": "stdout",
     "output_type": "stream",
     "text": [
      "типы данных таблицы BOOKS\n"
     ]
    },
    {
     "data": {
      "text/html": [
       "<div>\n",
       "<style scoped>\n",
       "    .dataframe tbody tr th:only-of-type {\n",
       "        vertical-align: middle;\n",
       "    }\n",
       "\n",
       "    .dataframe tbody tr th {\n",
       "        vertical-align: top;\n",
       "    }\n",
       "\n",
       "    .dataframe thead th {\n",
       "        text-align: right;\n",
       "    }\n",
       "</style>\n",
       "<table border=\"1\" class=\"dataframe\">\n",
       "  <thead>\n",
       "    <tr style=\"text-align: right;\">\n",
       "      <th></th>\n",
       "      <th>column_name</th>\n",
       "      <th>data_type</th>\n",
       "    </tr>\n",
       "  </thead>\n",
       "  <tbody>\n",
       "    <tr>\n",
       "      <th>0</th>\n",
       "      <td>book_id</td>\n",
       "      <td>integer</td>\n",
       "    </tr>\n",
       "    <tr>\n",
       "      <th>1</th>\n",
       "      <td>author_id</td>\n",
       "      <td>integer</td>\n",
       "    </tr>\n",
       "    <tr>\n",
       "      <th>2</th>\n",
       "      <td>title</td>\n",
       "      <td>text</td>\n",
       "    </tr>\n",
       "    <tr>\n",
       "      <th>3</th>\n",
       "      <td>num_pages</td>\n",
       "      <td>integer</td>\n",
       "    </tr>\n",
       "    <tr>\n",
       "      <th>4</th>\n",
       "      <td>publication_date</td>\n",
       "      <td>date</td>\n",
       "    </tr>\n",
       "    <tr>\n",
       "      <th>5</th>\n",
       "      <td>publisher_id</td>\n",
       "      <td>integer</td>\n",
       "    </tr>\n",
       "  </tbody>\n",
       "</table>\n",
       "</div>"
      ],
      "text/plain": [
       "        column_name data_type\n",
       "0           book_id   integer\n",
       "1         author_id   integer\n",
       "2             title      text\n",
       "3         num_pages   integer\n",
       "4  publication_date      date\n",
       "5      publisher_id   integer"
      ]
     },
     "execution_count": 3,
     "metadata": {},
     "output_type": "execute_result"
    }
   ],
   "source": [
    "print('таблица BOOKS')\n",
    "BOOKS = '''\n",
    "            select * from books;\n",
    "            '''\n",
    "query_1 = pd.io.sql.read_sql('''\n",
    "            select * from books limit 1;\n",
    "            ''', con = engine)\n",
    "BOOKS = select(BOOKS)\n",
    "display(query_1)\n",
    "\n",
    "print('типы данных таблицы BOOKS')\n",
    "\n",
    "query_2 = '''\n",
    "            select column_name, data_type\n",
    "            from information_schema.columns\n",
    "            where table_name = 'books'\n",
    "            '''\n",
    "pd.io.sql.read_sql(query_2, con = engine)"
   ]
  },
  {
   "cell_type": "markdown",
   "metadata": {},
   "source": [
    "#### Таблица authors"
   ]
  },
  {
   "cell_type": "code",
   "execution_count": 4,
   "metadata": {},
   "outputs": [
    {
     "name": "stdout",
     "output_type": "stream",
     "text": [
      "таблица AUTHORS\n"
     ]
    },
    {
     "data": {
      "text/html": [
       "<div>\n",
       "<style scoped>\n",
       "    .dataframe tbody tr th:only-of-type {\n",
       "        vertical-align: middle;\n",
       "    }\n",
       "\n",
       "    .dataframe tbody tr th {\n",
       "        vertical-align: top;\n",
       "    }\n",
       "\n",
       "    .dataframe thead th {\n",
       "        text-align: right;\n",
       "    }\n",
       "</style>\n",
       "<table border=\"1\" class=\"dataframe\">\n",
       "  <thead>\n",
       "    <tr style=\"text-align: right;\">\n",
       "      <th></th>\n",
       "      <th>author_id</th>\n",
       "      <th>author</th>\n",
       "    </tr>\n",
       "  </thead>\n",
       "  <tbody>\n",
       "    <tr>\n",
       "      <th>0</th>\n",
       "      <td>1</td>\n",
       "      <td>A.S. Byatt</td>\n",
       "    </tr>\n",
       "  </tbody>\n",
       "</table>\n",
       "</div>"
      ],
      "text/plain": [
       "   author_id      author\n",
       "0          1  A.S. Byatt"
      ]
     },
     "metadata": {},
     "output_type": "display_data"
    },
    {
     "name": "stdout",
     "output_type": "stream",
     "text": [
      "типы данных таблицы authors\n"
     ]
    },
    {
     "data": {
      "text/html": [
       "<div>\n",
       "<style scoped>\n",
       "    .dataframe tbody tr th:only-of-type {\n",
       "        vertical-align: middle;\n",
       "    }\n",
       "\n",
       "    .dataframe tbody tr th {\n",
       "        vertical-align: top;\n",
       "    }\n",
       "\n",
       "    .dataframe thead th {\n",
       "        text-align: right;\n",
       "    }\n",
       "</style>\n",
       "<table border=\"1\" class=\"dataframe\">\n",
       "  <thead>\n",
       "    <tr style=\"text-align: right;\">\n",
       "      <th></th>\n",
       "      <th>column_name</th>\n",
       "      <th>data_type</th>\n",
       "    </tr>\n",
       "  </thead>\n",
       "  <tbody>\n",
       "    <tr>\n",
       "      <th>0</th>\n",
       "      <td>author_id</td>\n",
       "      <td>integer</td>\n",
       "    </tr>\n",
       "    <tr>\n",
       "      <th>1</th>\n",
       "      <td>author</td>\n",
       "      <td>text</td>\n",
       "    </tr>\n",
       "  </tbody>\n",
       "</table>\n",
       "</div>"
      ],
      "text/plain": [
       "  column_name data_type\n",
       "0   author_id   integer\n",
       "1      author      text"
      ]
     },
     "execution_count": 4,
     "metadata": {},
     "output_type": "execute_result"
    }
   ],
   "source": [
    "print('таблица AUTHORS')\n",
    "AUTHORS = '''\n",
    "            select * from authors;\n",
    "            '''\n",
    "query_1 = pd.io.sql.read_sql('''\n",
    "            select * from authors limit 1;\n",
    "            ''', con = engine)\n",
    "AUTHORS = select(AUTHORS)\n",
    "display(query_1)\n",
    "\n",
    "print('типы данных таблицы authors')\n",
    "\n",
    "query_2 = '''\n",
    "            select column_name, data_type\n",
    "            from information_schema.columns\n",
    "            where table_name = 'authors'\n",
    "            '''\n",
    "pd.io.sql.read_sql(query_2, con = engine)"
   ]
  },
  {
   "cell_type": "markdown",
   "metadata": {},
   "source": [
    "#### Таблица publishers"
   ]
  },
  {
   "cell_type": "code",
   "execution_count": 5,
   "metadata": {},
   "outputs": [
    {
     "name": "stdout",
     "output_type": "stream",
     "text": [
      "таблица PUBLISHERS\n"
     ]
    },
    {
     "data": {
      "text/html": [
       "<div>\n",
       "<style scoped>\n",
       "    .dataframe tbody tr th:only-of-type {\n",
       "        vertical-align: middle;\n",
       "    }\n",
       "\n",
       "    .dataframe tbody tr th {\n",
       "        vertical-align: top;\n",
       "    }\n",
       "\n",
       "    .dataframe thead th {\n",
       "        text-align: right;\n",
       "    }\n",
       "</style>\n",
       "<table border=\"1\" class=\"dataframe\">\n",
       "  <thead>\n",
       "    <tr style=\"text-align: right;\">\n",
       "      <th></th>\n",
       "      <th>publisher_id</th>\n",
       "      <th>publisher</th>\n",
       "    </tr>\n",
       "  </thead>\n",
       "  <tbody>\n",
       "    <tr>\n",
       "      <th>0</th>\n",
       "      <td>1</td>\n",
       "      <td>Ace</td>\n",
       "    </tr>\n",
       "  </tbody>\n",
       "</table>\n",
       "</div>"
      ],
      "text/plain": [
       "   publisher_id publisher\n",
       "0             1       Ace"
      ]
     },
     "metadata": {},
     "output_type": "display_data"
    },
    {
     "name": "stdout",
     "output_type": "stream",
     "text": [
      "типы данных таблицы PUBLISHERS\n"
     ]
    },
    {
     "data": {
      "text/html": [
       "<div>\n",
       "<style scoped>\n",
       "    .dataframe tbody tr th:only-of-type {\n",
       "        vertical-align: middle;\n",
       "    }\n",
       "\n",
       "    .dataframe tbody tr th {\n",
       "        vertical-align: top;\n",
       "    }\n",
       "\n",
       "    .dataframe thead th {\n",
       "        text-align: right;\n",
       "    }\n",
       "</style>\n",
       "<table border=\"1\" class=\"dataframe\">\n",
       "  <thead>\n",
       "    <tr style=\"text-align: right;\">\n",
       "      <th></th>\n",
       "      <th>column_name</th>\n",
       "      <th>data_type</th>\n",
       "    </tr>\n",
       "  </thead>\n",
       "  <tbody>\n",
       "    <tr>\n",
       "      <th>0</th>\n",
       "      <td>publisher_id</td>\n",
       "      <td>integer</td>\n",
       "    </tr>\n",
       "    <tr>\n",
       "      <th>1</th>\n",
       "      <td>publisher</td>\n",
       "      <td>text</td>\n",
       "    </tr>\n",
       "  </tbody>\n",
       "</table>\n",
       "</div>"
      ],
      "text/plain": [
       "    column_name data_type\n",
       "0  publisher_id   integer\n",
       "1     publisher      text"
      ]
     },
     "execution_count": 5,
     "metadata": {},
     "output_type": "execute_result"
    }
   ],
   "source": [
    "print('таблица PUBLISHERS')\n",
    "PUBLISHERS = '''\n",
    "            select * from PUBLISHERS;\n",
    "            '''\n",
    "query_1 = pd.io.sql.read_sql('''\n",
    "            select * from PUBLISHERS limit 1;\n",
    "            ''', con = engine)\n",
    "PUBLISHERS = select(PUBLISHERS)\n",
    "display(query_1)\n",
    "\n",
    "print('типы данных таблицы PUBLISHERS')\n",
    "\n",
    "query_2 = '''\n",
    "            select column_name, data_type\n",
    "            from information_schema.columns\n",
    "            where table_name = 'publishers'\n",
    "            '''\n",
    "pd.io.sql.read_sql(query_2, con = engine)"
   ]
  },
  {
   "cell_type": "markdown",
   "metadata": {},
   "source": [
    "#### Таблица ratings"
   ]
  },
  {
   "cell_type": "code",
   "execution_count": 6,
   "metadata": {},
   "outputs": [
    {
     "name": "stdout",
     "output_type": "stream",
     "text": [
      "таблица RATINGS\n"
     ]
    },
    {
     "data": {
      "text/html": [
       "<div>\n",
       "<style scoped>\n",
       "    .dataframe tbody tr th:only-of-type {\n",
       "        vertical-align: middle;\n",
       "    }\n",
       "\n",
       "    .dataframe tbody tr th {\n",
       "        vertical-align: top;\n",
       "    }\n",
       "\n",
       "    .dataframe thead th {\n",
       "        text-align: right;\n",
       "    }\n",
       "</style>\n",
       "<table border=\"1\" class=\"dataframe\">\n",
       "  <thead>\n",
       "    <tr style=\"text-align: right;\">\n",
       "      <th></th>\n",
       "      <th>rating_id</th>\n",
       "      <th>book_id</th>\n",
       "      <th>username</th>\n",
       "      <th>rating</th>\n",
       "    </tr>\n",
       "  </thead>\n",
       "  <tbody>\n",
       "    <tr>\n",
       "      <th>0</th>\n",
       "      <td>1</td>\n",
       "      <td>1</td>\n",
       "      <td>ryanfranco</td>\n",
       "      <td>4</td>\n",
       "    </tr>\n",
       "  </tbody>\n",
       "</table>\n",
       "</div>"
      ],
      "text/plain": [
       "   rating_id  book_id    username  rating\n",
       "0          1        1  ryanfranco       4"
      ]
     },
     "metadata": {},
     "output_type": "display_data"
    },
    {
     "name": "stdout",
     "output_type": "stream",
     "text": [
      "типы данных таблицы RATINGS\n"
     ]
    },
    {
     "data": {
      "text/html": [
       "<div>\n",
       "<style scoped>\n",
       "    .dataframe tbody tr th:only-of-type {\n",
       "        vertical-align: middle;\n",
       "    }\n",
       "\n",
       "    .dataframe tbody tr th {\n",
       "        vertical-align: top;\n",
       "    }\n",
       "\n",
       "    .dataframe thead th {\n",
       "        text-align: right;\n",
       "    }\n",
       "</style>\n",
       "<table border=\"1\" class=\"dataframe\">\n",
       "  <thead>\n",
       "    <tr style=\"text-align: right;\">\n",
       "      <th></th>\n",
       "      <th>column_name</th>\n",
       "      <th>data_type</th>\n",
       "    </tr>\n",
       "  </thead>\n",
       "  <tbody>\n",
       "    <tr>\n",
       "      <th>0</th>\n",
       "      <td>rating_id</td>\n",
       "      <td>integer</td>\n",
       "    </tr>\n",
       "    <tr>\n",
       "      <th>1</th>\n",
       "      <td>book_id</td>\n",
       "      <td>integer</td>\n",
       "    </tr>\n",
       "    <tr>\n",
       "      <th>2</th>\n",
       "      <td>username</td>\n",
       "      <td>text</td>\n",
       "    </tr>\n",
       "    <tr>\n",
       "      <th>3</th>\n",
       "      <td>rating</td>\n",
       "      <td>integer</td>\n",
       "    </tr>\n",
       "  </tbody>\n",
       "</table>\n",
       "</div>"
      ],
      "text/plain": [
       "  column_name data_type\n",
       "0   rating_id   integer\n",
       "1     book_id   integer\n",
       "2    username      text\n",
       "3      rating   integer"
      ]
     },
     "execution_count": 6,
     "metadata": {},
     "output_type": "execute_result"
    }
   ],
   "source": [
    "print('таблица RATINGS')\n",
    "RATINGS = '''\n",
    "            select * from RATINGS;\n",
    "            '''\n",
    "query_1 = pd.io.sql.read_sql('''\n",
    "            select * from RATINGS limit 1;\n",
    "            ''', con = engine)\n",
    "RATINGS = select(RATINGS)\n",
    "\n",
    "display(query_1)\n",
    "\n",
    "print('типы данных таблицы RATINGS')\n",
    "\n",
    "query_2 = '''\n",
    "            select column_name, data_type\n",
    "            from information_schema.columns\n",
    "            where table_name = 'ratings'\n",
    "            '''\n",
    "pd.io.sql.read_sql(query_2, con = engine)"
   ]
  },
  {
   "cell_type": "markdown",
   "metadata": {},
   "source": [
    "#### Таблица reviews"
   ]
  },
  {
   "cell_type": "code",
   "execution_count": 7,
   "metadata": {},
   "outputs": [
    {
     "name": "stdout",
     "output_type": "stream",
     "text": [
      "таблица REVIEWS\n"
     ]
    },
    {
     "data": {
      "text/html": [
       "<div>\n",
       "<style scoped>\n",
       "    .dataframe tbody tr th:only-of-type {\n",
       "        vertical-align: middle;\n",
       "    }\n",
       "\n",
       "    .dataframe tbody tr th {\n",
       "        vertical-align: top;\n",
       "    }\n",
       "\n",
       "    .dataframe thead th {\n",
       "        text-align: right;\n",
       "    }\n",
       "</style>\n",
       "<table border=\"1\" class=\"dataframe\">\n",
       "  <thead>\n",
       "    <tr style=\"text-align: right;\">\n",
       "      <th></th>\n",
       "      <th>review_id</th>\n",
       "      <th>book_id</th>\n",
       "      <th>username</th>\n",
       "      <th>text</th>\n",
       "    </tr>\n",
       "  </thead>\n",
       "  <tbody>\n",
       "    <tr>\n",
       "      <th>0</th>\n",
       "      <td>1</td>\n",
       "      <td>1</td>\n",
       "      <td>brandtandrea</td>\n",
       "      <td>Mention society tell send professor analysis. ...</td>\n",
       "    </tr>\n",
       "  </tbody>\n",
       "</table>\n",
       "</div>"
      ],
      "text/plain": [
       "   review_id  book_id      username  \\\n",
       "0          1        1  brandtandrea   \n",
       "\n",
       "                                                text  \n",
       "0  Mention society tell send professor analysis. ...  "
      ]
     },
     "metadata": {},
     "output_type": "display_data"
    },
    {
     "name": "stdout",
     "output_type": "stream",
     "text": [
      "типы данных таблицы REVIEWS\n"
     ]
    },
    {
     "data": {
      "text/html": [
       "<div>\n",
       "<style scoped>\n",
       "    .dataframe tbody tr th:only-of-type {\n",
       "        vertical-align: middle;\n",
       "    }\n",
       "\n",
       "    .dataframe tbody tr th {\n",
       "        vertical-align: top;\n",
       "    }\n",
       "\n",
       "    .dataframe thead th {\n",
       "        text-align: right;\n",
       "    }\n",
       "</style>\n",
       "<table border=\"1\" class=\"dataframe\">\n",
       "  <thead>\n",
       "    <tr style=\"text-align: right;\">\n",
       "      <th></th>\n",
       "      <th>column_name</th>\n",
       "      <th>data_type</th>\n",
       "    </tr>\n",
       "  </thead>\n",
       "  <tbody>\n",
       "    <tr>\n",
       "      <th>0</th>\n",
       "      <td>review_id</td>\n",
       "      <td>integer</td>\n",
       "    </tr>\n",
       "    <tr>\n",
       "      <th>1</th>\n",
       "      <td>book_id</td>\n",
       "      <td>integer</td>\n",
       "    </tr>\n",
       "    <tr>\n",
       "      <th>2</th>\n",
       "      <td>username</td>\n",
       "      <td>text</td>\n",
       "    </tr>\n",
       "    <tr>\n",
       "      <th>3</th>\n",
       "      <td>text</td>\n",
       "      <td>text</td>\n",
       "    </tr>\n",
       "  </tbody>\n",
       "</table>\n",
       "</div>"
      ],
      "text/plain": [
       "  column_name data_type\n",
       "0   review_id   integer\n",
       "1     book_id   integer\n",
       "2    username      text\n",
       "3        text      text"
      ]
     },
     "execution_count": 7,
     "metadata": {},
     "output_type": "execute_result"
    }
   ],
   "source": [
    "print('таблица REVIEWS')\n",
    "REVIEWS = '''\n",
    "            select * from REVIEWS;\n",
    "            '''\n",
    "query_1 = pd.io.sql.read_sql('''\n",
    "            select * from REVIEWS limit 1;\n",
    "            ''', con = engine)\n",
    "REVIEWS = select(REVIEWS)\n",
    "display(query_1)\n",
    "\n",
    "print('типы данных таблицы REVIEWS')\n",
    "\n",
    "query_2 = '''\n",
    "            select column_name, data_type\n",
    "            from information_schema.columns\n",
    "            where table_name = 'reviews'\n",
    "            '''\n",
    "pd.io.sql.read_sql(query_2, con = engine)"
   ]
  },
  {
   "cell_type": "code",
   "execution_count": 8,
   "metadata": {
    "scrolled": false
   },
   "outputs": [
    {
     "data": {
      "text/html": [
       "<div>\n",
       "<style scoped>\n",
       "    .dataframe tbody tr th:only-of-type {\n",
       "        vertical-align: middle;\n",
       "    }\n",
       "\n",
       "    .dataframe tbody tr th {\n",
       "        vertical-align: top;\n",
       "    }\n",
       "\n",
       "    .dataframe thead th {\n",
       "        text-align: right;\n",
       "    }\n",
       "</style>\n",
       "<table border=\"1\" class=\"dataframe\">\n",
       "  <thead>\n",
       "    <tr style=\"text-align: right;\">\n",
       "      <th></th>\n",
       "      <th>book_id</th>\n",
       "      <th>author_id</th>\n",
       "      <th>title</th>\n",
       "      <th>num_pages</th>\n",
       "      <th>publication_date</th>\n",
       "      <th>publisher_id</th>\n",
       "    </tr>\n",
       "  </thead>\n",
       "  <tbody>\n",
       "    <tr>\n",
       "      <th>0</th>\n",
       "      <td>1</td>\n",
       "      <td>546</td>\n",
       "      <td>'Salem's Lot</td>\n",
       "      <td>594</td>\n",
       "      <td>2005-11-01</td>\n",
       "      <td>93</td>\n",
       "    </tr>\n",
       "    <tr>\n",
       "      <th>1</th>\n",
       "      <td>2</td>\n",
       "      <td>465</td>\n",
       "      <td>1 000 Places to See Before You Die</td>\n",
       "      <td>992</td>\n",
       "      <td>2003-05-22</td>\n",
       "      <td>336</td>\n",
       "    </tr>\n",
       "    <tr>\n",
       "      <th>2</th>\n",
       "      <td>3</td>\n",
       "      <td>407</td>\n",
       "      <td>13 Little Blue Envelopes (Little Blue Envelope...</td>\n",
       "      <td>322</td>\n",
       "      <td>2010-12-21</td>\n",
       "      <td>135</td>\n",
       "    </tr>\n",
       "    <tr>\n",
       "      <th>3</th>\n",
       "      <td>4</td>\n",
       "      <td>82</td>\n",
       "      <td>1491: New Revelations of the Americas Before C...</td>\n",
       "      <td>541</td>\n",
       "      <td>2006-10-10</td>\n",
       "      <td>309</td>\n",
       "    </tr>\n",
       "    <tr>\n",
       "      <th>4</th>\n",
       "      <td>5</td>\n",
       "      <td>125</td>\n",
       "      <td>1776</td>\n",
       "      <td>386</td>\n",
       "      <td>2006-07-04</td>\n",
       "      <td>268</td>\n",
       "    </tr>\n",
       "  </tbody>\n",
       "</table>\n",
       "</div>"
      ],
      "text/plain": [
       "   book_id  author_id                                              title  \\\n",
       "0        1        546                                       'Salem's Lot   \n",
       "1        2        465                 1 000 Places to See Before You Die   \n",
       "2        3        407  13 Little Blue Envelopes (Little Blue Envelope...   \n",
       "3        4         82  1491: New Revelations of the Americas Before C...   \n",
       "4        5        125                                               1776   \n",
       "\n",
       "   num_pages publication_date  publisher_id  \n",
       "0        594       2005-11-01            93  \n",
       "1        992       2003-05-22           336  \n",
       "2        322       2010-12-21           135  \n",
       "3        541       2006-10-10           309  \n",
       "4        386       2006-07-04           268  "
      ]
     },
     "metadata": {},
     "output_type": "display_data"
    },
    {
     "name": "stdout",
     "output_type": "stream",
     "text": [
      "<class 'pandas.core.frame.DataFrame'>\n",
      "RangeIndex: 1000 entries, 0 to 999\n",
      "Data columns (total 6 columns):\n",
      " #   Column            Non-Null Count  Dtype \n",
      "---  ------            --------------  ----- \n",
      " 0   book_id           1000 non-null   int64 \n",
      " 1   author_id         1000 non-null   int64 \n",
      " 2   title             1000 non-null   object\n",
      " 3   num_pages         1000 non-null   int64 \n",
      " 4   publication_date  1000 non-null   object\n",
      " 5   publisher_id      1000 non-null   int64 \n",
      "dtypes: int64(4), object(2)\n",
      "memory usage: 47.0+ KB\n",
      "===============================\n"
     ]
    },
    {
     "data": {
      "text/html": [
       "<div>\n",
       "<style scoped>\n",
       "    .dataframe tbody tr th:only-of-type {\n",
       "        vertical-align: middle;\n",
       "    }\n",
       "\n",
       "    .dataframe tbody tr th {\n",
       "        vertical-align: top;\n",
       "    }\n",
       "\n",
       "    .dataframe thead th {\n",
       "        text-align: right;\n",
       "    }\n",
       "</style>\n",
       "<table border=\"1\" class=\"dataframe\">\n",
       "  <thead>\n",
       "    <tr style=\"text-align: right;\">\n",
       "      <th></th>\n",
       "      <th>author_id</th>\n",
       "      <th>author</th>\n",
       "    </tr>\n",
       "  </thead>\n",
       "  <tbody>\n",
       "    <tr>\n",
       "      <th>0</th>\n",
       "      <td>1</td>\n",
       "      <td>A.S. Byatt</td>\n",
       "    </tr>\n",
       "    <tr>\n",
       "      <th>1</th>\n",
       "      <td>2</td>\n",
       "      <td>Aesop/Laura Harris/Laura Gibbs</td>\n",
       "    </tr>\n",
       "    <tr>\n",
       "      <th>2</th>\n",
       "      <td>3</td>\n",
       "      <td>Agatha Christie</td>\n",
       "    </tr>\n",
       "    <tr>\n",
       "      <th>3</th>\n",
       "      <td>4</td>\n",
       "      <td>Alan Brennert</td>\n",
       "    </tr>\n",
       "    <tr>\n",
       "      <th>4</th>\n",
       "      <td>5</td>\n",
       "      <td>Alan Moore/David   Lloyd</td>\n",
       "    </tr>\n",
       "  </tbody>\n",
       "</table>\n",
       "</div>"
      ],
      "text/plain": [
       "   author_id                          author\n",
       "0          1                      A.S. Byatt\n",
       "1          2  Aesop/Laura Harris/Laura Gibbs\n",
       "2          3                 Agatha Christie\n",
       "3          4                   Alan Brennert\n",
       "4          5        Alan Moore/David   Lloyd"
      ]
     },
     "metadata": {},
     "output_type": "display_data"
    },
    {
     "name": "stdout",
     "output_type": "stream",
     "text": [
      "<class 'pandas.core.frame.DataFrame'>\n",
      "RangeIndex: 636 entries, 0 to 635\n",
      "Data columns (total 2 columns):\n",
      " #   Column     Non-Null Count  Dtype \n",
      "---  ------     --------------  ----- \n",
      " 0   author_id  636 non-null    int64 \n",
      " 1   author     636 non-null    object\n",
      "dtypes: int64(1), object(1)\n",
      "memory usage: 10.1+ KB\n",
      "===============================\n"
     ]
    },
    {
     "data": {
      "text/html": [
       "<div>\n",
       "<style scoped>\n",
       "    .dataframe tbody tr th:only-of-type {\n",
       "        vertical-align: middle;\n",
       "    }\n",
       "\n",
       "    .dataframe tbody tr th {\n",
       "        vertical-align: top;\n",
       "    }\n",
       "\n",
       "    .dataframe thead th {\n",
       "        text-align: right;\n",
       "    }\n",
       "</style>\n",
       "<table border=\"1\" class=\"dataframe\">\n",
       "  <thead>\n",
       "    <tr style=\"text-align: right;\">\n",
       "      <th></th>\n",
       "      <th>rating_id</th>\n",
       "      <th>book_id</th>\n",
       "      <th>username</th>\n",
       "      <th>rating</th>\n",
       "    </tr>\n",
       "  </thead>\n",
       "  <tbody>\n",
       "    <tr>\n",
       "      <th>0</th>\n",
       "      <td>1</td>\n",
       "      <td>1</td>\n",
       "      <td>ryanfranco</td>\n",
       "      <td>4</td>\n",
       "    </tr>\n",
       "    <tr>\n",
       "      <th>1</th>\n",
       "      <td>2</td>\n",
       "      <td>1</td>\n",
       "      <td>grantpatricia</td>\n",
       "      <td>2</td>\n",
       "    </tr>\n",
       "    <tr>\n",
       "      <th>2</th>\n",
       "      <td>3</td>\n",
       "      <td>1</td>\n",
       "      <td>brandtandrea</td>\n",
       "      <td>5</td>\n",
       "    </tr>\n",
       "    <tr>\n",
       "      <th>3</th>\n",
       "      <td>4</td>\n",
       "      <td>2</td>\n",
       "      <td>lorichen</td>\n",
       "      <td>3</td>\n",
       "    </tr>\n",
       "    <tr>\n",
       "      <th>4</th>\n",
       "      <td>5</td>\n",
       "      <td>2</td>\n",
       "      <td>mariokeller</td>\n",
       "      <td>2</td>\n",
       "    </tr>\n",
       "  </tbody>\n",
       "</table>\n",
       "</div>"
      ],
      "text/plain": [
       "   rating_id  book_id       username  rating\n",
       "0          1        1     ryanfranco       4\n",
       "1          2        1  grantpatricia       2\n",
       "2          3        1   brandtandrea       5\n",
       "3          4        2       lorichen       3\n",
       "4          5        2    mariokeller       2"
      ]
     },
     "metadata": {},
     "output_type": "display_data"
    },
    {
     "name": "stdout",
     "output_type": "stream",
     "text": [
      "<class 'pandas.core.frame.DataFrame'>\n",
      "RangeIndex: 6456 entries, 0 to 6455\n",
      "Data columns (total 4 columns):\n",
      " #   Column     Non-Null Count  Dtype \n",
      "---  ------     --------------  ----- \n",
      " 0   rating_id  6456 non-null   int64 \n",
      " 1   book_id    6456 non-null   int64 \n",
      " 2   username   6456 non-null   object\n",
      " 3   rating     6456 non-null   int64 \n",
      "dtypes: int64(3), object(1)\n",
      "memory usage: 201.9+ KB\n",
      "===============================\n"
     ]
    },
    {
     "data": {
      "text/html": [
       "<div>\n",
       "<style scoped>\n",
       "    .dataframe tbody tr th:only-of-type {\n",
       "        vertical-align: middle;\n",
       "    }\n",
       "\n",
       "    .dataframe tbody tr th {\n",
       "        vertical-align: top;\n",
       "    }\n",
       "\n",
       "    .dataframe thead th {\n",
       "        text-align: right;\n",
       "    }\n",
       "</style>\n",
       "<table border=\"1\" class=\"dataframe\">\n",
       "  <thead>\n",
       "    <tr style=\"text-align: right;\">\n",
       "      <th></th>\n",
       "      <th>review_id</th>\n",
       "      <th>book_id</th>\n",
       "      <th>username</th>\n",
       "      <th>text</th>\n",
       "    </tr>\n",
       "  </thead>\n",
       "  <tbody>\n",
       "    <tr>\n",
       "      <th>0</th>\n",
       "      <td>1</td>\n",
       "      <td>1</td>\n",
       "      <td>brandtandrea</td>\n",
       "      <td>Mention society tell send professor analysis. ...</td>\n",
       "    </tr>\n",
       "    <tr>\n",
       "      <th>1</th>\n",
       "      <td>2</td>\n",
       "      <td>1</td>\n",
       "      <td>ryanfranco</td>\n",
       "      <td>Foot glass pretty audience hit themselves. Amo...</td>\n",
       "    </tr>\n",
       "    <tr>\n",
       "      <th>2</th>\n",
       "      <td>3</td>\n",
       "      <td>2</td>\n",
       "      <td>lorichen</td>\n",
       "      <td>Listen treat keep worry. Miss husband tax but ...</td>\n",
       "    </tr>\n",
       "    <tr>\n",
       "      <th>3</th>\n",
       "      <td>4</td>\n",
       "      <td>3</td>\n",
       "      <td>johnsonamanda</td>\n",
       "      <td>Finally month interesting blue could nature cu...</td>\n",
       "    </tr>\n",
       "    <tr>\n",
       "      <th>4</th>\n",
       "      <td>5</td>\n",
       "      <td>3</td>\n",
       "      <td>scotttamara</td>\n",
       "      <td>Nation purpose heavy give wait song will. List...</td>\n",
       "    </tr>\n",
       "  </tbody>\n",
       "</table>\n",
       "</div>"
      ],
      "text/plain": [
       "   review_id  book_id       username  \\\n",
       "0          1        1   brandtandrea   \n",
       "1          2        1     ryanfranco   \n",
       "2          3        2       lorichen   \n",
       "3          4        3  johnsonamanda   \n",
       "4          5        3    scotttamara   \n",
       "\n",
       "                                                text  \n",
       "0  Mention society tell send professor analysis. ...  \n",
       "1  Foot glass pretty audience hit themselves. Amo...  \n",
       "2  Listen treat keep worry. Miss husband tax but ...  \n",
       "3  Finally month interesting blue could nature cu...  \n",
       "4  Nation purpose heavy give wait song will. List...  "
      ]
     },
     "metadata": {},
     "output_type": "display_data"
    },
    {
     "name": "stdout",
     "output_type": "stream",
     "text": [
      "<class 'pandas.core.frame.DataFrame'>\n",
      "RangeIndex: 2793 entries, 0 to 2792\n",
      "Data columns (total 4 columns):\n",
      " #   Column     Non-Null Count  Dtype \n",
      "---  ------     --------------  ----- \n",
      " 0   review_id  2793 non-null   int64 \n",
      " 1   book_id    2793 non-null   int64 \n",
      " 2   username   2793 non-null   object\n",
      " 3   text       2793 non-null   object\n",
      "dtypes: int64(2), object(2)\n",
      "memory usage: 87.4+ KB\n",
      "===============================\n"
     ]
    },
    {
     "data": {
      "text/html": [
       "<div>\n",
       "<style scoped>\n",
       "    .dataframe tbody tr th:only-of-type {\n",
       "        vertical-align: middle;\n",
       "    }\n",
       "\n",
       "    .dataframe tbody tr th {\n",
       "        vertical-align: top;\n",
       "    }\n",
       "\n",
       "    .dataframe thead th {\n",
       "        text-align: right;\n",
       "    }\n",
       "</style>\n",
       "<table border=\"1\" class=\"dataframe\">\n",
       "  <thead>\n",
       "    <tr style=\"text-align: right;\">\n",
       "      <th></th>\n",
       "      <th>publisher_id</th>\n",
       "      <th>publisher</th>\n",
       "    </tr>\n",
       "  </thead>\n",
       "  <tbody>\n",
       "    <tr>\n",
       "      <th>0</th>\n",
       "      <td>1</td>\n",
       "      <td>Ace</td>\n",
       "    </tr>\n",
       "    <tr>\n",
       "      <th>1</th>\n",
       "      <td>2</td>\n",
       "      <td>Ace Book</td>\n",
       "    </tr>\n",
       "    <tr>\n",
       "      <th>2</th>\n",
       "      <td>3</td>\n",
       "      <td>Ace Books</td>\n",
       "    </tr>\n",
       "    <tr>\n",
       "      <th>3</th>\n",
       "      <td>4</td>\n",
       "      <td>Ace Hardcover</td>\n",
       "    </tr>\n",
       "    <tr>\n",
       "      <th>4</th>\n",
       "      <td>5</td>\n",
       "      <td>Addison Wesley Publishing Company</td>\n",
       "    </tr>\n",
       "  </tbody>\n",
       "</table>\n",
       "</div>"
      ],
      "text/plain": [
       "   publisher_id                          publisher\n",
       "0             1                                Ace\n",
       "1             2                           Ace Book\n",
       "2             3                          Ace Books\n",
       "3             4                      Ace Hardcover\n",
       "4             5  Addison Wesley Publishing Company"
      ]
     },
     "metadata": {},
     "output_type": "display_data"
    },
    {
     "name": "stdout",
     "output_type": "stream",
     "text": [
      "<class 'pandas.core.frame.DataFrame'>\n",
      "RangeIndex: 340 entries, 0 to 339\n",
      "Data columns (total 2 columns):\n",
      " #   Column        Non-Null Count  Dtype \n",
      "---  ------        --------------  ----- \n",
      " 0   publisher_id  340 non-null    int64 \n",
      " 1   publisher     340 non-null    object\n",
      "dtypes: int64(1), object(1)\n",
      "memory usage: 5.4+ KB\n",
      "===============================\n"
     ]
    }
   ],
   "source": [
    "for data in [BOOKS, AUTHORS, RATINGS, REVIEWS, PUBLISHERS]:\n",
    "    display(data.head())\n",
    "    data.info()\n",
    "    print('===============================')"
   ]
  },
  {
   "cell_type": "markdown",
   "metadata": {},
   "source": [
    "<div class=\"alert alert-success\" style=\"border-radius: 15px; box-shadow: 4px 4px 4px; border: 1px solid \" > <b>Комментарии от ревьюера ✔️ : </b> \n",
    "\n",
    "Здесь всё хорошо. Ты корректно выгрузил данные и посмотрел их содержимое. Вывел информацию  о размерности датасетов. Теперь можем приступать к выполнению заданий\n",
    "</div>"
   ]
  },
  {
   "cell_type": "markdown",
   "metadata": {},
   "source": [
    "## Формулировка запросов к БД"
   ]
  },
  {
   "cell_type": "markdown",
   "metadata": {},
   "source": [
    "### Количество книг, выпущенных после 1 января 2000 года:"
   ]
  },
  {
   "cell_type": "code",
   "execution_count": 9,
   "metadata": {},
   "outputs": [
    {
     "data": {
      "text/html": [
       "<div>\n",
       "<style scoped>\n",
       "    .dataframe tbody tr th:only-of-type {\n",
       "        vertical-align: middle;\n",
       "    }\n",
       "\n",
       "    .dataframe tbody tr th {\n",
       "        vertical-align: top;\n",
       "    }\n",
       "\n",
       "    .dataframe thead th {\n",
       "        text-align: right;\n",
       "    }\n",
       "</style>\n",
       "<table border=\"1\" class=\"dataframe\">\n",
       "  <thead>\n",
       "    <tr style=\"text-align: right;\">\n",
       "      <th></th>\n",
       "      <th>books_cnt</th>\n",
       "    </tr>\n",
       "  </thead>\n",
       "  <tbody>\n",
       "    <tr>\n",
       "      <th>0</th>\n",
       "      <td>821</td>\n",
       "    </tr>\n",
       "  </tbody>\n",
       "</table>\n",
       "</div>"
      ],
      "text/plain": [
       "   books_cnt\n",
       "0        821"
      ]
     },
     "execution_count": 9,
     "metadata": {},
     "output_type": "execute_result"
    }
   ],
   "source": [
    "books_twty = '''\n",
    "            select count(book_id) as books_cnt\n",
    "            from books\n",
    "            where publication_date >= '2000-01-01'\n",
    "            '''\n",
    "select(books_twty)"
   ]
  },
  {
   "cell_type": "markdown",
   "metadata": {},
   "source": [
    "<div class=\"alert alert-success\" style=\"border-radius: 15px; box-shadow: 4px 4px 4px; border: 1px solid \" > <b>Комментарии от ревьюера ✔️ : </b> \n",
    "    \n",
    "Всё верно. Это правильный ответ\n",
    "\n",
    "</div>"
   ]
  },
  {
   "cell_type": "markdown",
   "metadata": {},
   "source": [
    "#### Ответ: После 1 января 2000 года было выпущено 821 книг."
   ]
  },
  {
   "cell_type": "markdown",
   "metadata": {},
   "source": [
    "### Сколько пользовательских обзоров и какова средняя оценка для каждой книги;"
   ]
  },
  {
   "cell_type": "code",
   "execution_count": 10,
   "metadata": {
    "scrolled": false
   },
   "outputs": [
    {
     "data": {
      "text/html": [
       "<div>\n",
       "<style scoped>\n",
       "    .dataframe tbody tr th:only-of-type {\n",
       "        vertical-align: middle;\n",
       "    }\n",
       "\n",
       "    .dataframe tbody tr th {\n",
       "        vertical-align: top;\n",
       "    }\n",
       "\n",
       "    .dataframe thead th {\n",
       "        text-align: right;\n",
       "    }\n",
       "</style>\n",
       "<table border=\"1\" class=\"dataframe\">\n",
       "  <thead>\n",
       "    <tr style=\"text-align: right;\">\n",
       "      <th></th>\n",
       "      <th>title</th>\n",
       "      <th>book_id</th>\n",
       "      <th>reviews_cnt</th>\n",
       "      <th>rating_avg</th>\n",
       "    </tr>\n",
       "  </thead>\n",
       "  <tbody>\n",
       "    <tr>\n",
       "      <th>0</th>\n",
       "      <td>Pop Goes the Weasel (Alex Cross  #5)</td>\n",
       "      <td>518</td>\n",
       "      <td>2.0</td>\n",
       "      <td>5.00</td>\n",
       "    </tr>\n",
       "    <tr>\n",
       "      <th>1</th>\n",
       "      <td>The Ghost Map: The Story of London's Most Terr...</td>\n",
       "      <td>732</td>\n",
       "      <td>2.0</td>\n",
       "      <td>5.00</td>\n",
       "    </tr>\n",
       "    <tr>\n",
       "      <th>2</th>\n",
       "      <td>In the Hand of the Goddess (Song of the Liones...</td>\n",
       "      <td>347</td>\n",
       "      <td>2.0</td>\n",
       "      <td>5.00</td>\n",
       "    </tr>\n",
       "    <tr>\n",
       "      <th>3</th>\n",
       "      <td>Tai-Pan (Asian Saga  #2)</td>\n",
       "      <td>610</td>\n",
       "      <td>2.0</td>\n",
       "      <td>5.00</td>\n",
       "    </tr>\n",
       "    <tr>\n",
       "      <th>4</th>\n",
       "      <td>How to Be a Domestic Goddess: Baking and the A...</td>\n",
       "      <td>330</td>\n",
       "      <td>1.0</td>\n",
       "      <td>5.00</td>\n",
       "    </tr>\n",
       "    <tr>\n",
       "      <th>...</th>\n",
       "      <td>...</td>\n",
       "      <td>...</td>\n",
       "      <td>...</td>\n",
       "      <td>...</td>\n",
       "    </tr>\n",
       "    <tr>\n",
       "      <th>995</th>\n",
       "      <td>The World Is Flat: A Brief History of the Twen...</td>\n",
       "      <td>915</td>\n",
       "      <td>3.0</td>\n",
       "      <td>2.25</td>\n",
       "    </tr>\n",
       "    <tr>\n",
       "      <th>996</th>\n",
       "      <td>Junky</td>\n",
       "      <td>371</td>\n",
       "      <td>2.0</td>\n",
       "      <td>2.00</td>\n",
       "    </tr>\n",
       "    <tr>\n",
       "      <th>997</th>\n",
       "      <td>His Excellency: George Washington</td>\n",
       "      <td>316</td>\n",
       "      <td>2.0</td>\n",
       "      <td>2.00</td>\n",
       "    </tr>\n",
       "    <tr>\n",
       "      <th>998</th>\n",
       "      <td>Drowning Ruth</td>\n",
       "      <td>202</td>\n",
       "      <td>3.0</td>\n",
       "      <td>2.00</td>\n",
       "    </tr>\n",
       "    <tr>\n",
       "      <th>999</th>\n",
       "      <td>Harvesting the Heart</td>\n",
       "      <td>303</td>\n",
       "      <td>2.0</td>\n",
       "      <td>1.50</td>\n",
       "    </tr>\n",
       "  </tbody>\n",
       "</table>\n",
       "<p>1000 rows × 4 columns</p>\n",
       "</div>"
      ],
      "text/plain": [
       "                                                 title  book_id  reviews_cnt  \\\n",
       "0                 Pop Goes the Weasel (Alex Cross  #5)      518          2.0   \n",
       "1    The Ghost Map: The Story of London's Most Terr...      732          2.0   \n",
       "2    In the Hand of the Goddess (Song of the Liones...      347          2.0   \n",
       "3                             Tai-Pan (Asian Saga  #2)      610          2.0   \n",
       "4    How to Be a Domestic Goddess: Baking and the A...      330          1.0   \n",
       "..                                                 ...      ...          ...   \n",
       "995  The World Is Flat: A Brief History of the Twen...      915          3.0   \n",
       "996                                              Junky      371          2.0   \n",
       "997                  His Excellency: George Washington      316          2.0   \n",
       "998                                      Drowning Ruth      202          3.0   \n",
       "999                               Harvesting the Heart      303          2.0   \n",
       "\n",
       "     rating_avg  \n",
       "0          5.00  \n",
       "1          5.00  \n",
       "2          5.00  \n",
       "3          5.00  \n",
       "4          5.00  \n",
       "..          ...  \n",
       "995        2.25  \n",
       "996        2.00  \n",
       "997        2.00  \n",
       "998        2.00  \n",
       "999        1.50  \n",
       "\n",
       "[1000 rows x 4 columns]"
      ]
     },
     "execution_count": 10,
     "metadata": {},
     "output_type": "execute_result"
    }
   ],
   "source": [
    "rev_rait_books = ''' \n",
    "\n",
    "                select \n",
    "                    title as title\n",
    "                    , b.book_id as book_id\n",
    "                    , subre.n_rev as reviews_cnt\n",
    "                    , round(subra.avg_rat, 2) AS rating_avg\n",
    "                from books as b \n",
    "                left join  \n",
    "                        (select\n",
    "                                book_id,\n",
    "                                avg(rating) as avg_rat\n",
    "                         from\n",
    "                                ratings as ra\n",
    "                         GROUP BY \n",
    "                                book_id\n",
    "                                ) as subra on subra.book_id = b.book_id\n",
    "                left join\n",
    "                        (select \n",
    "                                book_id,\n",
    "                                count(review_id) as n_rev\n",
    "                         from\n",
    "                                reviews as re\n",
    "                         group by \n",
    "                                book_id\n",
    "                                ) AS subre on subre.book_id = b.book_id\n",
    "                order by rating_avg desc\n",
    "\n",
    "                 ''' \n",
    "select(rev_rait_books)"
   ]
  },
  {
   "cell_type": "markdown",
   "metadata": {},
   "source": [
    "<div class=\"alert alert-success\" style=\"border-radius: 15px; box-shadow: 4px 4px 4px; border: 1px solid \" > <b>Комментарии от ревьюера ✔️ : </b> \n",
    "    \n",
    "Здорово. Это один из самых коварных запросов, как показывает практика, но ты справился успешно. Молодец!)\n",
    "\n",
    "</div>"
   ]
  },
  {
   "cell_type": "markdown",
   "metadata": {},
   "source": [
    "#### Ответ: Таблица reviews & rating"
   ]
  },
  {
   "cell_type": "markdown",
   "metadata": {},
   "source": [
    "### Издательство, которое выпустило наибольшее число книг толще 50 страниц"
   ]
  },
  {
   "cell_type": "code",
   "execution_count": 11,
   "metadata": {},
   "outputs": [
    {
     "data": {
      "text/html": [
       "<div>\n",
       "<style scoped>\n",
       "    .dataframe tbody tr th:only-of-type {\n",
       "        vertical-align: middle;\n",
       "    }\n",
       "\n",
       "    .dataframe tbody tr th {\n",
       "        vertical-align: top;\n",
       "    }\n",
       "\n",
       "    .dataframe thead th {\n",
       "        text-align: right;\n",
       "    }\n",
       "</style>\n",
       "<table border=\"1\" class=\"dataframe\">\n",
       "  <thead>\n",
       "    <tr style=\"text-align: right;\">\n",
       "      <th></th>\n",
       "      <th>publisher</th>\n",
       "      <th>books_cnt</th>\n",
       "    </tr>\n",
       "  </thead>\n",
       "  <tbody>\n",
       "    <tr>\n",
       "      <th>0</th>\n",
       "      <td>Penguin Books</td>\n",
       "      <td>42</td>\n",
       "    </tr>\n",
       "  </tbody>\n",
       "</table>\n",
       "</div>"
      ],
      "text/plain": [
       "       publisher  books_cnt\n",
       "0  Penguin Books         42"
      ]
     },
     "execution_count": 11,
     "metadata": {},
     "output_type": "execute_result"
    }
   ],
   "source": [
    "fifty_pages_book = '''\n",
    "            select\n",
    "                publisher\n",
    "                , count(b.book_id) as books_cnt \n",
    "            from \n",
    "                publishers as p\n",
    "            join books as b on b.publisher_id = p.publisher_id\n",
    "            where \n",
    "                num_pages > 50\n",
    "            group by \n",
    "                publisher\n",
    "            order by \n",
    "                books_cnt desc\n",
    "            limit 1\n",
    "            '''\n",
    "select(fifty_pages_book)"
   ]
  },
  {
   "cell_type": "markdown",
   "metadata": {},
   "source": [
    "<div class=\"alert alert-success\" style=\"border-radius: 15px; box-shadow: 4px 4px 4px; border: 1px solid \" > <b>Комментарии от ревьюера ✔️ : </b> \n",
    "    \n",
    "\n",
    "Согласен с результатом. Действительно данное издательство является лидером по выпущенным книгам\n",
    "\n",
    "</div>"
   ]
  },
  {
   "cell_type": "markdown",
   "metadata": {},
   "source": [
    "#### Ответ: Издательство Penguin Books\tвыпустило 42 книги толще 50 страниц."
   ]
  },
  {
   "cell_type": "markdown",
   "metadata": {},
   "source": [
    "### Автора с самой высокой средней оценкой книг, получивших более 50 и более оценок"
   ]
  },
  {
   "cell_type": "code",
   "execution_count": 12,
   "metadata": {},
   "outputs": [
    {
     "data": {
      "text/html": [
       "<div>\n",
       "<style scoped>\n",
       "    .dataframe tbody tr th:only-of-type {\n",
       "        vertical-align: middle;\n",
       "    }\n",
       "\n",
       "    .dataframe tbody tr th {\n",
       "        vertical-align: top;\n",
       "    }\n",
       "\n",
       "    .dataframe thead th {\n",
       "        text-align: right;\n",
       "    }\n",
       "</style>\n",
       "<table border=\"1\" class=\"dataframe\">\n",
       "  <thead>\n",
       "    <tr style=\"text-align: right;\">\n",
       "      <th></th>\n",
       "      <th>author</th>\n",
       "      <th>rating_avg</th>\n",
       "    </tr>\n",
       "  </thead>\n",
       "  <tbody>\n",
       "    <tr>\n",
       "      <th>0</th>\n",
       "      <td>J.K. Rowling/Mary GrandPré</td>\n",
       "      <td>4.28</td>\n",
       "    </tr>\n",
       "    <tr>\n",
       "      <th>1</th>\n",
       "      <td>Markus Zusak/Cao Xuân Việt Khương</td>\n",
       "      <td>4.26</td>\n",
       "    </tr>\n",
       "    <tr>\n",
       "      <th>2</th>\n",
       "      <td>J.R.R. Tolkien</td>\n",
       "      <td>4.26</td>\n",
       "    </tr>\n",
       "    <tr>\n",
       "      <th>3</th>\n",
       "      <td>Louisa May Alcott</td>\n",
       "      <td>4.19</td>\n",
       "    </tr>\n",
       "    <tr>\n",
       "      <th>4</th>\n",
       "      <td>Rick Riordan</td>\n",
       "      <td>4.08</td>\n",
       "    </tr>\n",
       "    <tr>\n",
       "      <th>5</th>\n",
       "      <td>William Golding</td>\n",
       "      <td>3.90</td>\n",
       "    </tr>\n",
       "    <tr>\n",
       "      <th>6</th>\n",
       "      <td>J.D. Salinger</td>\n",
       "      <td>3.83</td>\n",
       "    </tr>\n",
       "    <tr>\n",
       "      <th>7</th>\n",
       "      <td>William Shakespeare/Paul Werstine/Barbara A. M...</td>\n",
       "      <td>3.79</td>\n",
       "    </tr>\n",
       "    <tr>\n",
       "      <th>8</th>\n",
       "      <td>Paulo Coelho/Alan R. Clarke/Özdemir İnce</td>\n",
       "      <td>3.79</td>\n",
       "    </tr>\n",
       "    <tr>\n",
       "      <th>9</th>\n",
       "      <td>Lois Lowry</td>\n",
       "      <td>3.75</td>\n",
       "    </tr>\n",
       "    <tr>\n",
       "      <th>10</th>\n",
       "      <td>Dan Brown</td>\n",
       "      <td>3.75</td>\n",
       "    </tr>\n",
       "    <tr>\n",
       "      <th>11</th>\n",
       "      <td>George Orwell/Boris Grabnar/Peter Škerl</td>\n",
       "      <td>3.73</td>\n",
       "    </tr>\n",
       "    <tr>\n",
       "      <th>12</th>\n",
       "      <td>Stephenie Meyer</td>\n",
       "      <td>3.66</td>\n",
       "    </tr>\n",
       "    <tr>\n",
       "      <th>13</th>\n",
       "      <td>John Steinbeck</td>\n",
       "      <td>3.62</td>\n",
       "    </tr>\n",
       "  </tbody>\n",
       "</table>\n",
       "</div>"
      ],
      "text/plain": [
       "                                               author  rating_avg\n",
       "0                          J.K. Rowling/Mary GrandPré        4.28\n",
       "1                   Markus Zusak/Cao Xuân Việt Khương        4.26\n",
       "2                                      J.R.R. Tolkien        4.26\n",
       "3                                   Louisa May Alcott        4.19\n",
       "4                                        Rick Riordan        4.08\n",
       "5                                     William Golding        3.90\n",
       "6                                       J.D. Salinger        3.83\n",
       "7   William Shakespeare/Paul Werstine/Barbara A. M...        3.79\n",
       "8            Paulo Coelho/Alan R. Clarke/Özdemir İnce        3.79\n",
       "9                                          Lois Lowry        3.75\n",
       "10                                          Dan Brown        3.75\n",
       "11            George Orwell/Boris Grabnar/Peter Škerl        3.73\n",
       "12                                    Stephenie Meyer        3.66\n",
       "13                                     John Steinbeck        3.62"
      ]
     },
     "execution_count": 12,
     "metadata": {},
     "output_type": "execute_result"
    }
   ],
   "source": [
    "top_author = '''\n",
    "            select\n",
    "                subq.author as author\n",
    "                , round(avg(subq.rating_avg), 2) as rating_avg\n",
    "            from\n",
    "                (select\n",
    "                    a.author as author\n",
    "                    , b.book_id as id\n",
    "                    , avg(ra.rating) as rating_avg,\n",
    "                    count(ra.rating) as rating_cnt\n",
    "                from\n",
    "                    authors as a\n",
    "                inner join books as b on b.author_id = a.author_id\n",
    "                inner join ratings as ra on ra.book_id = b.book_id\n",
    "                group by\n",
    "                    author\n",
    "                    , id\n",
    "                having\n",
    "                    count(ra.rating) >= 50) as subq\n",
    "            group by\n",
    "                author\n",
    "            order by\n",
    "                rating_avg desc\n",
    "\n",
    "            '''\n",
    "select(top_author)\n"
   ]
  },
  {
   "cell_type": "markdown",
   "metadata": {},
   "source": [
    "<div class=\"alert alert-success\" style=\"border-radius: 15px; box-shadow: 4px 4px 4px; border: 1px solid \" > <b>Комментарии от ревьюера ✔️ : </b> \n",
    "    \n",
    "\n",
    "И здесь ты не ошибся. Ты верно отфильтровал книги и рассчитал средний рейтинг авторов\n",
    "\n",
    "</div>"
   ]
  },
  {
   "cell_type": "markdown",
   "metadata": {},
   "source": [
    "#### Ответ: Автор J.K. Rowling/Mary GrandPré ,\tрейтинг 4.28, количество оценок "
   ]
  },
  {
   "cell_type": "markdown",
   "metadata": {},
   "source": [
    "### Среднее количество обзоров от пользователей, которые поставили больше 50 оценок"
   ]
  },
  {
   "cell_type": "code",
   "execution_count": 13,
   "metadata": {
    "scrolled": true
   },
   "outputs": [
    {
     "data": {
      "text/html": [
       "<div>\n",
       "<style scoped>\n",
       "    .dataframe tbody tr th:only-of-type {\n",
       "        vertical-align: middle;\n",
       "    }\n",
       "\n",
       "    .dataframe tbody tr th {\n",
       "        vertical-align: top;\n",
       "    }\n",
       "\n",
       "    .dataframe thead th {\n",
       "        text-align: right;\n",
       "    }\n",
       "</style>\n",
       "<table border=\"1\" class=\"dataframe\">\n",
       "  <thead>\n",
       "    <tr style=\"text-align: right;\">\n",
       "      <th></th>\n",
       "      <th>avg_count</th>\n",
       "    </tr>\n",
       "  </thead>\n",
       "  <tbody>\n",
       "    <tr>\n",
       "      <th>0</th>\n",
       "      <td>24.0</td>\n",
       "    </tr>\n",
       "  </tbody>\n",
       "</table>\n",
       "</div>"
      ],
      "text/plain": [
       "   avg_count\n",
       "0       24.0"
      ]
     },
     "execution_count": 13,
     "metadata": {},
     "output_type": "execute_result"
    }
   ],
   "source": [
    "avg_reviews = '''\n",
    "            select\n",
    "                round(avg(count)) as avg_count\n",
    "            from \n",
    "                (select\n",
    "                    count(text)\n",
    "                from reviews as re\n",
    "                full outer join(select\n",
    "                                    username\n",
    "                                    , count(rating_id) as cnt\n",
    "                                from\n",
    "                                    ratings as ra\n",
    "                                group by\n",
    "                                    username) as rating_cnt\n",
    "                on rating_cnt.username = re.username\n",
    "                where\n",
    "                    cnt > 50\n",
    "                group by re.username) as count\n",
    "            '''\n",
    "select(avg_reviews)"
   ]
  },
  {
   "cell_type": "markdown",
   "metadata": {},
   "source": [
    "<div class=\"alert alert-success\" style=\"border-radius: 15px; box-shadow: 4px 4px 4px; border: 1px solid \" > <b>Комментарии от ревьюера ✔️ : </b> \n",
    "    \n",
    "\n",
    "И это .. правильный ответ! Ты корректно отобрал пользователей и рассчитал их показатели.\n",
    "\n",
    "\n",
    "В итоге, 5\\5 с первой попытки - это сильный результат)\n",
    "\n",
    "</div>"
   ]
  },
  {
   "cell_type": "markdown",
   "metadata": {},
   "source": [
    "#### Ответ: среднее количество обзоров от пользователей, которые поставили больше 50 оценок, составляет 24,0"
   ]
  },
  {
   "cell_type": "markdown",
   "metadata": {},
   "source": [
    "# Вывод. Финальное задание выполнено. Благодарю!"
   ]
  }
 ],
 "metadata": {
  "ExecuteTimeLog": [
   {
    "duration": 44,
    "start_time": "2022-08-05T11:08:32.859Z"
   },
   {
    "duration": 2241,
    "start_time": "2022-08-05T11:08:43.616Z"
   },
   {
    "duration": 505,
    "start_time": "2022-08-05T11:08:45.860Z"
   },
   {
    "duration": 7207,
    "start_time": "2022-08-05T11:08:46.367Z"
   },
   {
    "duration": 229,
    "start_time": "2022-08-05T11:08:53.575Z"
   },
   {
    "duration": 66,
    "start_time": "2022-08-05T11:09:17.128Z"
   },
   {
    "duration": 64,
    "start_time": "2022-08-05T11:09:37.858Z"
   },
   {
    "duration": 65,
    "start_time": "2022-08-05T11:09:58.563Z"
   },
   {
    "duration": 66,
    "start_time": "2022-08-05T11:10:18.359Z"
   },
   {
    "duration": 63,
    "start_time": "2022-08-05T11:10:42.026Z"
   },
   {
    "duration": 81,
    "start_time": "2022-08-05T11:12:29.669Z"
   },
   {
    "duration": 77,
    "start_time": "2022-08-05T11:17:46.880Z"
   },
   {
    "duration": 2039,
    "start_time": "2022-08-05T11:18:47.182Z"
   },
   {
    "duration": 534,
    "start_time": "2022-08-05T11:18:49.223Z"
   },
   {
    "duration": 6326,
    "start_time": "2022-08-05T11:18:49.758Z"
   },
   {
    "duration": 233,
    "start_time": "2022-08-05T11:18:56.086Z"
   },
   {
    "duration": 68,
    "start_time": "2022-08-05T11:18:56.321Z"
   },
   {
    "duration": 69,
    "start_time": "2022-08-05T11:18:56.391Z"
   },
   {
    "duration": 77,
    "start_time": "2022-08-05T11:18:56.461Z"
   },
   {
    "duration": 74,
    "start_time": "2022-08-05T11:18:56.539Z"
   },
   {
    "duration": 68,
    "start_time": "2022-08-05T11:18:56.615Z"
   },
   {
    "duration": 82,
    "start_time": "2022-08-05T11:18:56.685Z"
   },
   {
    "duration": 71,
    "start_time": "2022-08-05T11:21:35.384Z"
   },
   {
    "duration": 2034,
    "start_time": "2022-08-05T11:23:06.196Z"
   },
   {
    "duration": 549,
    "start_time": "2022-08-05T11:23:08.233Z"
   },
   {
    "duration": 5876,
    "start_time": "2022-08-05T11:23:08.784Z"
   },
   {
    "duration": 227,
    "start_time": "2022-08-05T11:23:14.662Z"
   },
   {
    "duration": 65,
    "start_time": "2022-08-05T11:23:14.891Z"
   },
   {
    "duration": 65,
    "start_time": "2022-08-05T11:23:14.958Z"
   },
   {
    "duration": 66,
    "start_time": "2022-08-05T11:23:15.025Z"
   },
   {
    "duration": 69,
    "start_time": "2022-08-05T11:23:15.093Z"
   },
   {
    "duration": 70,
    "start_time": "2022-08-05T11:23:15.164Z"
   },
   {
    "duration": 79,
    "start_time": "2022-08-05T11:23:15.236Z"
   },
   {
    "duration": 70,
    "start_time": "2022-08-05T11:23:15.317Z"
   },
   {
    "duration": 68,
    "start_time": "2022-08-05T11:26:35.468Z"
   },
   {
    "duration": 68,
    "start_time": "2022-08-05T11:29:42.607Z"
   },
   {
    "duration": 1995,
    "start_time": "2022-08-05T11:34:23.773Z"
   },
   {
    "duration": 493,
    "start_time": "2022-08-05T11:34:25.771Z"
   },
   {
    "duration": 6277,
    "start_time": "2022-08-05T11:34:26.266Z"
   },
   {
    "duration": 227,
    "start_time": "2022-08-05T11:34:32.545Z"
   },
   {
    "duration": 73,
    "start_time": "2022-08-05T11:34:32.773Z"
   },
   {
    "duration": 64,
    "start_time": "2022-08-05T11:34:32.847Z"
   },
   {
    "duration": 66,
    "start_time": "2022-08-05T11:34:32.913Z"
   },
   {
    "duration": 67,
    "start_time": "2022-08-05T11:34:32.980Z"
   },
   {
    "duration": 74,
    "start_time": "2022-08-05T11:34:33.049Z"
   },
   {
    "duration": 82,
    "start_time": "2022-08-05T11:34:33.126Z"
   },
   {
    "duration": 69,
    "start_time": "2022-08-05T11:34:33.210Z"
   },
   {
    "duration": 71,
    "start_time": "2022-08-05T11:34:33.281Z"
   },
   {
    "duration": 69,
    "start_time": "2022-08-05T11:34:33.353Z"
   },
   {
    "duration": 2188,
    "start_time": "2022-08-05T11:44:59.900Z"
   },
   {
    "duration": 458,
    "start_time": "2022-08-05T11:45:02.091Z"
   },
   {
    "duration": 7329,
    "start_time": "2022-08-05T11:45:02.551Z"
   },
   {
    "duration": 239,
    "start_time": "2022-08-05T11:45:09.881Z"
   },
   {
    "duration": 70,
    "start_time": "2022-08-05T11:45:10.122Z"
   },
   {
    "duration": 72,
    "start_time": "2022-08-05T11:45:10.193Z"
   },
   {
    "duration": 71,
    "start_time": "2022-08-05T11:45:10.266Z"
   },
   {
    "duration": 78,
    "start_time": "2022-08-05T11:45:10.339Z"
   },
   {
    "duration": 72,
    "start_time": "2022-08-05T11:45:10.419Z"
   },
   {
    "duration": 82,
    "start_time": "2022-08-05T11:45:10.494Z"
   },
   {
    "duration": 73,
    "start_time": "2022-08-05T11:45:10.578Z"
   },
   {
    "duration": 74,
    "start_time": "2022-08-05T11:45:10.653Z"
   },
   {
    "duration": 73,
    "start_time": "2022-08-05T11:45:10.729Z"
   },
   {
    "duration": 3,
    "start_time": "2022-08-05T11:47:48.493Z"
   },
   {
    "duration": 2021,
    "start_time": "2022-08-05T11:52:56.845Z"
   },
   {
    "duration": 492,
    "start_time": "2022-08-05T11:52:58.869Z"
   },
   {
    "duration": 55,
    "start_time": "2022-08-05T11:52:59.363Z"
   },
   {
    "duration": 0,
    "start_time": "2022-08-05T11:52:59.419Z"
   },
   {
    "duration": 0,
    "start_time": "2022-08-05T11:52:59.420Z"
   },
   {
    "duration": 0,
    "start_time": "2022-08-05T11:52:59.421Z"
   },
   {
    "duration": 0,
    "start_time": "2022-08-05T11:52:59.422Z"
   },
   {
    "duration": 0,
    "start_time": "2022-08-05T11:52:59.423Z"
   },
   {
    "duration": 0,
    "start_time": "2022-08-05T11:52:59.424Z"
   },
   {
    "duration": 0,
    "start_time": "2022-08-05T11:52:59.425Z"
   },
   {
    "duration": 0,
    "start_time": "2022-08-05T11:52:59.426Z"
   },
   {
    "duration": 0,
    "start_time": "2022-08-05T11:52:59.428Z"
   },
   {
    "duration": 0,
    "start_time": "2022-08-05T11:52:59.428Z"
   },
   {
    "duration": 0,
    "start_time": "2022-08-05T11:52:59.429Z"
   },
   {
    "duration": 65,
    "start_time": "2022-08-05T11:55:33.001Z"
   },
   {
    "duration": 0,
    "start_time": "2022-08-05T11:55:33.068Z"
   },
   {
    "duration": 0,
    "start_time": "2022-08-05T11:55:33.069Z"
   },
   {
    "duration": 0,
    "start_time": "2022-08-05T11:55:33.070Z"
   },
   {
    "duration": 0,
    "start_time": "2022-08-05T11:55:33.071Z"
   },
   {
    "duration": 0,
    "start_time": "2022-08-05T11:55:33.072Z"
   },
   {
    "duration": 0,
    "start_time": "2022-08-05T11:55:33.073Z"
   },
   {
    "duration": 0,
    "start_time": "2022-08-05T11:55:33.074Z"
   },
   {
    "duration": 0,
    "start_time": "2022-08-05T11:55:33.074Z"
   },
   {
    "duration": 0,
    "start_time": "2022-08-05T11:55:33.075Z"
   },
   {
    "duration": 0,
    "start_time": "2022-08-05T11:55:33.076Z"
   },
   {
    "duration": 0,
    "start_time": "2022-08-05T11:55:33.077Z"
   },
   {
    "duration": 0,
    "start_time": "2022-08-05T11:55:33.078Z"
   },
   {
    "duration": 0,
    "start_time": "2022-08-05T11:55:33.079Z"
   },
   {
    "duration": 2,
    "start_time": "2022-08-05T12:00:18.341Z"
   },
   {
    "duration": 4,
    "start_time": "2022-08-05T12:01:41.684Z"
   },
   {
    "duration": 5,
    "start_time": "2022-08-05T12:01:41.690Z"
   },
   {
    "duration": 5,
    "start_time": "2022-08-05T12:01:41.697Z"
   },
   {
    "duration": 8170,
    "start_time": "2022-08-05T12:01:41.704Z"
   },
   {
    "duration": 3,
    "start_time": "2022-08-05T12:01:49.876Z"
   },
   {
    "duration": 250,
    "start_time": "2022-08-05T12:01:49.880Z"
   },
   {
    "duration": 70,
    "start_time": "2022-08-05T12:01:50.132Z"
   },
   {
    "duration": 70,
    "start_time": "2022-08-05T12:01:50.203Z"
   },
   {
    "duration": 70,
    "start_time": "2022-08-05T12:01:50.274Z"
   },
   {
    "duration": 70,
    "start_time": "2022-08-05T12:01:50.346Z"
   },
   {
    "duration": 68,
    "start_time": "2022-08-05T12:01:50.418Z"
   },
   {
    "duration": 85,
    "start_time": "2022-08-05T12:01:50.487Z"
   },
   {
    "duration": 71,
    "start_time": "2022-08-05T12:01:50.574Z"
   },
   {
    "duration": 76,
    "start_time": "2022-08-05T12:01:50.646Z"
   },
   {
    "duration": 72,
    "start_time": "2022-08-05T12:01:50.723Z"
   },
   {
    "duration": 240,
    "start_time": "2022-08-05T12:05:10.636Z"
   },
   {
    "duration": 218,
    "start_time": "2022-08-05T12:05:51.080Z"
   },
   {
    "duration": 255,
    "start_time": "2022-08-05T12:06:54.471Z"
   },
   {
    "duration": 205,
    "start_time": "2022-08-05T12:08:21.952Z"
   },
   {
    "duration": 254,
    "start_time": "2022-08-05T12:10:15.635Z"
   },
   {
    "duration": 82,
    "start_time": "2022-08-05T12:11:58.953Z"
   },
   {
    "duration": 110,
    "start_time": "2022-08-05T12:14:54.832Z"
   },
   {
    "duration": 100,
    "start_time": "2022-08-05T12:17:12.155Z"
   },
   {
    "duration": 70,
    "start_time": "2022-08-05T12:17:54.349Z"
   },
   {
    "duration": 70,
    "start_time": "2022-08-05T12:18:58.153Z"
   },
   {
    "duration": 101,
    "start_time": "2022-08-05T12:19:55.383Z"
   },
   {
    "duration": 69,
    "start_time": "2022-08-05T12:20:44.111Z"
   },
   {
    "duration": 146,
    "start_time": "2022-08-05T12:22:21.665Z"
   },
   {
    "duration": 141,
    "start_time": "2022-08-05T12:23:10.939Z"
   },
   {
    "duration": 76,
    "start_time": "2022-08-05T12:23:26.266Z"
   },
   {
    "duration": 71,
    "start_time": "2022-08-05T12:24:04.116Z"
   },
   {
    "duration": 7242,
    "start_time": "2022-08-05T12:26:36.281Z"
   },
   {
    "duration": 3,
    "start_time": "2022-08-05T12:26:43.524Z"
   },
   {
    "duration": 406,
    "start_time": "2022-08-05T12:26:43.529Z"
   },
   {
    "duration": 211,
    "start_time": "2022-08-05T12:26:43.937Z"
   },
   {
    "duration": 211,
    "start_time": "2022-08-05T12:26:44.149Z"
   },
   {
    "duration": 231,
    "start_time": "2022-08-05T12:26:44.362Z"
   },
   {
    "duration": 220,
    "start_time": "2022-08-05T12:26:44.595Z"
   },
   {
    "duration": 57,
    "start_time": "2022-08-05T12:26:44.817Z"
   },
   {
    "duration": 77,
    "start_time": "2022-08-05T12:26:44.876Z"
   },
   {
    "duration": 81,
    "start_time": "2022-08-05T12:26:44.956Z"
   },
   {
    "duration": 72,
    "start_time": "2022-08-05T12:26:45.039Z"
   },
   {
    "duration": 77,
    "start_time": "2022-08-05T12:26:45.113Z"
   },
   {
    "duration": 78,
    "start_time": "2022-08-05T12:26:45.192Z"
   },
   {
    "duration": 107,
    "start_time": "2022-08-05T12:33:11.174Z"
   },
   {
    "duration": 7070,
    "start_time": "2022-08-05T12:33:21.293Z"
   },
   {
    "duration": 2,
    "start_time": "2022-08-05T12:33:28.365Z"
   },
   {
    "duration": 395,
    "start_time": "2022-08-05T12:33:28.369Z"
   },
   {
    "duration": 210,
    "start_time": "2022-08-05T12:33:28.768Z"
   },
   {
    "duration": 231,
    "start_time": "2022-08-05T12:33:28.980Z"
   },
   {
    "duration": 232,
    "start_time": "2022-08-05T12:33:29.213Z"
   },
   {
    "duration": 218,
    "start_time": "2022-08-05T12:33:29.447Z"
   },
   {
    "duration": 84,
    "start_time": "2022-08-05T12:33:29.667Z"
   },
   {
    "duration": 67,
    "start_time": "2022-08-05T12:33:29.754Z"
   },
   {
    "duration": 78,
    "start_time": "2022-08-05T12:33:29.823Z"
   },
   {
    "duration": 68,
    "start_time": "2022-08-05T12:33:29.902Z"
   },
   {
    "duration": 77,
    "start_time": "2022-08-05T12:33:29.972Z"
   },
   {
    "duration": 73,
    "start_time": "2022-08-05T12:33:30.053Z"
   },
   {
    "duration": 6855,
    "start_time": "2022-08-05T12:36:00.301Z"
   },
   {
    "duration": 3,
    "start_time": "2022-08-05T12:36:07.159Z"
   },
   {
    "duration": 391,
    "start_time": "2022-08-05T12:36:07.164Z"
   },
   {
    "duration": 225,
    "start_time": "2022-08-05T12:36:07.557Z"
   },
   {
    "duration": 198,
    "start_time": "2022-08-05T12:36:07.785Z"
   },
   {
    "duration": 240,
    "start_time": "2022-08-05T12:36:07.985Z"
   },
   {
    "duration": 223,
    "start_time": "2022-08-05T12:36:08.227Z"
   },
   {
    "duration": 92,
    "start_time": "2022-08-05T12:36:08.454Z"
   },
   {
    "duration": 66,
    "start_time": "2022-08-05T12:36:08.549Z"
   },
   {
    "duration": 79,
    "start_time": "2022-08-05T12:36:08.617Z"
   },
   {
    "duration": 71,
    "start_time": "2022-08-05T12:36:08.698Z"
   },
   {
    "duration": 80,
    "start_time": "2022-08-05T12:36:08.771Z"
   },
   {
    "duration": 71,
    "start_time": "2022-08-05T12:36:08.856Z"
   },
   {
    "duration": 10280,
    "start_time": "2022-08-05T12:51:33.748Z"
   },
   {
    "duration": 5,
    "start_time": "2022-08-05T12:51:44.030Z"
   },
   {
    "duration": 453,
    "start_time": "2022-08-05T12:51:44.037Z"
   },
   {
    "duration": 229,
    "start_time": "2022-08-05T12:51:44.493Z"
   },
   {
    "duration": 224,
    "start_time": "2022-08-05T12:51:44.724Z"
   },
   {
    "duration": 233,
    "start_time": "2022-08-05T12:51:44.950Z"
   },
   {
    "duration": 255,
    "start_time": "2022-08-05T12:51:45.185Z"
   },
   {
    "duration": 63,
    "start_time": "2022-08-05T12:51:45.442Z"
   },
   {
    "duration": 76,
    "start_time": "2022-08-05T12:51:45.507Z"
   },
   {
    "duration": 94,
    "start_time": "2022-08-05T12:51:45.585Z"
   },
   {
    "duration": 82,
    "start_time": "2022-08-05T12:51:45.681Z"
   },
   {
    "duration": 85,
    "start_time": "2022-08-05T12:51:45.765Z"
   },
   {
    "duration": 90,
    "start_time": "2022-08-05T12:51:45.852Z"
   }
  ],
  "kernelspec": {
   "display_name": "Python 3 (ipykernel)",
   "language": "python",
   "name": "python3"
  },
  "language_info": {
   "codemirror_mode": {
    "name": "ipython",
    "version": 3
   },
   "file_extension": ".py",
   "mimetype": "text/x-python",
   "name": "python",
   "nbconvert_exporter": "python",
   "pygments_lexer": "ipython3",
   "version": "3.9.7"
  },
  "toc": {
   "base_numbering": 1,
   "nav_menu": {},
   "number_sections": true,
   "sideBar": true,
   "skip_h1_title": true,
   "title_cell": "Table of Contents",
   "title_sidebar": "Contents",
   "toc_cell": true,
   "toc_position": {},
   "toc_section_display": true,
   "toc_window_display": true
  }
 },
 "nbformat": 4,
 "nbformat_minor": 2
}
